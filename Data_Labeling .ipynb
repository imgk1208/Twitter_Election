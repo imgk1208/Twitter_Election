{
 "cells": [
  {
   "cell_type": "code",
   "execution_count": 35,
   "metadata": {},
   "outputs": [],
   "source": [
    "import pandas as pd"
   ]
  },
  {
   "cell_type": "code",
   "execution_count": 69,
   "metadata": {},
   "outputs": [],
   "source": [
    "bjp_df = pd.read_csv('BJP_data.csv')\n",
    "congress_df = pd.read_csv('Congress_data.csv')"
   ]
  },
  {
   "cell_type": "code",
   "execution_count": 73,
   "metadata": {},
   "outputs": [
    {
     "data": {
      "text/html": [
       "<div>\n",
       "<style scoped>\n",
       "    .dataframe tbody tr th:only-of-type {\n",
       "        vertical-align: middle;\n",
       "    }\n",
       "\n",
       "    .dataframe tbody tr th {\n",
       "        vertical-align: top;\n",
       "    }\n",
       "\n",
       "    .dataframe thead th {\n",
       "        text-align: right;\n",
       "    }\n",
       "</style>\n",
       "<table border=\"1\" class=\"dataframe\">\n",
       "  <thead>\n",
       "    <tr style=\"text-align: right;\">\n",
       "      <th></th>\n",
       "      <th>id</th>\n",
       "      <th>created_at</th>\n",
       "      <th>source</th>\n",
       "      <th>original_text</th>\n",
       "      <th>clean_text</th>\n",
       "      <th>sentiment</th>\n",
       "      <th>polarity</th>\n",
       "      <th>subjectivity</th>\n",
       "      <th>lang</th>\n",
       "      <th>favorite_count</th>\n",
       "      <th>retweet_count</th>\n",
       "      <th>original_author</th>\n",
       "      <th>possibly_sensitive</th>\n",
       "      <th>hashtags</th>\n",
       "      <th>user_mentions</th>\n",
       "      <th>place</th>\n",
       "      <th>place_coord_boundaries</th>\n",
       "    </tr>\n",
       "  </thead>\n",
       "  <tbody>\n",
       "    <tr>\n",
       "      <th>0</th>\n",
       "      <td>1118007923458732032</td>\n",
       "      <td>Tue Apr 16 04:27:15 +0000 2019</td>\n",
       "      <td>&lt;a href=\"http://twitter.com\" rel=\"nofollow\"&gt;Tw...</td>\n",
       "      <td>@smitabarooah @ModiOnceMore This video show ho...</td>\n",
       "      <td>smitabarooah ModiOnceMore This video show Modi...</td>\n",
       "      <td>Sentiment(polarity=0.6, subjectivity=0.8)</td>\n",
       "      <td>0.600000</td>\n",
       "      <td>0.80</td>\n",
       "      <td>en</td>\n",
       "      <td>0</td>\n",
       "      <td>0</td>\n",
       "      <td>wanderlust_hims</td>\n",
       "      <td>NaN</td>\n",
       "      <td>Modi, Government, effective, works</td>\n",
       "      <td>smitabarooah, ModiOnceMore</td>\n",
       "      <td>Twitter</td>\n",
       "      <td>NaN</td>\n",
       "    </tr>\n",
       "    <tr>\n",
       "      <th>1</th>\n",
       "      <td>1118007893612060672</td>\n",
       "      <td>Tue Apr 16 04:27:08 +0000 2019</td>\n",
       "      <td>&lt;a href=\"http://twitter.com/download/android\" ...</td>\n",
       "      <td>RT @NandiniOza: A day after his sister n fathe...</td>\n",
       "      <td>RT NandiniOza A day sister n father joined Con...</td>\n",
       "      <td>Sentiment(polarity=0.0, subjectivity=0.0)</td>\n",
       "      <td>0.000000</td>\n",
       "      <td>0.00</td>\n",
       "      <td>en</td>\n",
       "      <td>0</td>\n",
       "      <td>1</td>\n",
       "      <td>RajeevS27545206</td>\n",
       "      <td>NaN</td>\n",
       "      <td>Congress, BJP</td>\n",
       "      <td>NandiniOza, imjadeja, narendramodi</td>\n",
       "      <td>Delhi, India</td>\n",
       "      <td>NaN</td>\n",
       "    </tr>\n",
       "    <tr>\n",
       "      <th>2</th>\n",
       "      <td>1118007855020331009</td>\n",
       "      <td>Tue Apr 16 04:26:58 +0000 2019</td>\n",
       "      <td>&lt;a href=\"http://twitter.com/download/android\" ...</td>\n",
       "      <td>RT @dpradhanbjp: Glimpses of the massive gathe...</td>\n",
       "      <td>RT dpradhanbjp Glimpses massive gathering supp...</td>\n",
       "      <td>Sentiment(polarity=0.0, subjectivity=1.0)</td>\n",
       "      <td>0.000000</td>\n",
       "      <td>1.00</td>\n",
       "      <td>en</td>\n",
       "      <td>0</td>\n",
       "      <td>866</td>\n",
       "      <td>Anushka97223405</td>\n",
       "      <td>NaN</td>\n",
       "      <td>BJP, VijaySankalpYatra</td>\n",
       "      <td>dpradhanbjp</td>\n",
       "      <td>NaN</td>\n",
       "      <td>NaN</td>\n",
       "    </tr>\n",
       "    <tr>\n",
       "      <th>3</th>\n",
       "      <td>1118007830320242688</td>\n",
       "      <td>Tue Apr 16 04:26:52 +0000 2019</td>\n",
       "      <td>&lt;a href=\"http://twitter.com/download/iphone\" r...</td>\n",
       "      <td>RT @JhaSanjay: Dear @ArvindKejriwal Ji: Let’s ...</td>\n",
       "      <td>RT JhaSanjay Dear ArvindKejriwal Ji Let ’ clea...</td>\n",
       "      <td>Sentiment(polarity=0.18333333333333335, subjec...</td>\n",
       "      <td>0.183333</td>\n",
       "      <td>0.85</td>\n",
       "      <td>en</td>\n",
       "      <td>0</td>\n",
       "      <td>648</td>\n",
       "      <td>YasminKidwai</td>\n",
       "      <td>NaN</td>\n",
       "      <td>BJP</td>\n",
       "      <td>JhaSanjay, ArvindKejriwal</td>\n",
       "      <td>New Delhi</td>\n",
       "      <td>NaN</td>\n",
       "    </tr>\n",
       "    <tr>\n",
       "      <th>4</th>\n",
       "      <td>1118007773000716288</td>\n",
       "      <td>Tue Apr 16 04:26:39 +0000 2019</td>\n",
       "      <td>&lt;a href=\"http://twitter.com/download/android\" ...</td>\n",
       "      <td>@kavitavkhanna @VinodKhanna @BJP4India @PMOInd...</td>\n",
       "      <td>kavitavkhanna VinodKhanna BJP4India PMOIndia n...</td>\n",
       "      <td>Sentiment(polarity=0.0, subjectivity=0.0)</td>\n",
       "      <td>0.000000</td>\n",
       "      <td>0.00</td>\n",
       "      <td>en</td>\n",
       "      <td>0</td>\n",
       "      <td>0</td>\n",
       "      <td>vineetypmehta</td>\n",
       "      <td>NaN</td>\n",
       "      <td>BJP</td>\n",
       "      <td>kavitavkhanna, VinodKhanna, BJP4India, PMOIndi...</td>\n",
       "      <td>India</td>\n",
       "      <td>NaN</td>\n",
       "    </tr>\n",
       "  </tbody>\n",
       "</table>\n",
       "</div>"
      ],
      "text/plain": [
       "                    id                      created_at  \\\n",
       "0  1118007923458732032  Tue Apr 16 04:27:15 +0000 2019   \n",
       "1  1118007893612060672  Tue Apr 16 04:27:08 +0000 2019   \n",
       "2  1118007855020331009  Tue Apr 16 04:26:58 +0000 2019   \n",
       "3  1118007830320242688  Tue Apr 16 04:26:52 +0000 2019   \n",
       "4  1118007773000716288  Tue Apr 16 04:26:39 +0000 2019   \n",
       "\n",
       "                                              source  \\\n",
       "0  <a href=\"http://twitter.com\" rel=\"nofollow\">Tw...   \n",
       "1  <a href=\"http://twitter.com/download/android\" ...   \n",
       "2  <a href=\"http://twitter.com/download/android\" ...   \n",
       "3  <a href=\"http://twitter.com/download/iphone\" r...   \n",
       "4  <a href=\"http://twitter.com/download/android\" ...   \n",
       "\n",
       "                                       original_text  \\\n",
       "0  @smitabarooah @ModiOnceMore This video show ho...   \n",
       "1  RT @NandiniOza: A day after his sister n fathe...   \n",
       "2  RT @dpradhanbjp: Glimpses of the massive gathe...   \n",
       "3  RT @JhaSanjay: Dear @ArvindKejriwal Ji: Let’s ...   \n",
       "4  @kavitavkhanna @VinodKhanna @BJP4India @PMOInd...   \n",
       "\n",
       "                                          clean_text  \\\n",
       "0  smitabarooah ModiOnceMore This video show Modi...   \n",
       "1  RT NandiniOza A day sister n father joined Con...   \n",
       "2  RT dpradhanbjp Glimpses massive gathering supp...   \n",
       "3  RT JhaSanjay Dear ArvindKejriwal Ji Let ’ clea...   \n",
       "4  kavitavkhanna VinodKhanna BJP4India PMOIndia n...   \n",
       "\n",
       "                                           sentiment  polarity  subjectivity  \\\n",
       "0          Sentiment(polarity=0.6, subjectivity=0.8)  0.600000          0.80   \n",
       "1          Sentiment(polarity=0.0, subjectivity=0.0)  0.000000          0.00   \n",
       "2          Sentiment(polarity=0.0, subjectivity=1.0)  0.000000          1.00   \n",
       "3  Sentiment(polarity=0.18333333333333335, subjec...  0.183333          0.85   \n",
       "4          Sentiment(polarity=0.0, subjectivity=0.0)  0.000000          0.00   \n",
       "\n",
       "  lang  favorite_count  retweet_count  original_author possibly_sensitive  \\\n",
       "0   en               0              0  wanderlust_hims                NaN   \n",
       "1   en               0              1  RajeevS27545206                NaN   \n",
       "2   en               0            866  Anushka97223405                NaN   \n",
       "3   en               0            648     YasminKidwai                NaN   \n",
       "4   en               0              0    vineetypmehta                NaN   \n",
       "\n",
       "                             hashtags  \\\n",
       "0  Modi, Government, effective, works   \n",
       "1                       Congress, BJP   \n",
       "2              BJP, VijaySankalpYatra   \n",
       "3                                 BJP   \n",
       "4                                 BJP   \n",
       "\n",
       "                                       user_mentions         place  \\\n",
       "0                         smitabarooah, ModiOnceMore       Twitter   \n",
       "1                 NandiniOza, imjadeja, narendramodi  Delhi, India   \n",
       "2                                        dpradhanbjp           NaN   \n",
       "3                          JhaSanjay, ArvindKejriwal     New Delhi   \n",
       "4  kavitavkhanna, VinodKhanna, BJP4India, PMOIndi...         India   \n",
       "\n",
       "  place_coord_boundaries  \n",
       "0                    NaN  \n",
       "1                    NaN  \n",
       "2                    NaN  \n",
       "3                    NaN  \n",
       "4                    NaN  "
      ]
     },
     "execution_count": 73,
     "metadata": {},
     "output_type": "execute_result"
    }
   ],
   "source": [
    "bjp_df.head()"
   ]
  },
  {
   "cell_type": "markdown",
   "metadata": {},
   "source": [
    "Selecting the variables that would be used for the analysis. We select the tweet id, the text, polarity and tweet location."
   ]
  },
  {
   "cell_type": "code",
   "execution_count": 74,
   "metadata": {},
   "outputs": [],
   "source": [
    "bjp_df = bjp_df[['id','clean_text','polarity','place']]\n",
    "congress_df = congress_df[['id','clean_text','polarity','place']]"
   ]
  },
  {
   "cell_type": "markdown",
   "metadata": {},
   "source": [
    "**LABELING TWEETS AS POSITIVE NEGATIVE**<br>\n",
    "The tweepy libary gives out sentiment polarity in the range of -1 to +1. For our topic of election prediction the neutral tweets would be of no use as they will not provide any valuable information. Thus for simplicity purpose I have labeled tweets as only positive and negative. Tweets with polarity less than 0 will be labelled negative(0) and greater than 0 will be positive(1)"
   ]
  },
  {
   "cell_type": "code",
   "execution_count": 75,
   "metadata": {},
   "outputs": [],
   "source": [
    "bjp_df['polarity'] = bjp_df['polarity'].apply(lambda x: 1 if x > 0 else 0)\n",
    "congress_df['polarity'] = congress_df['polarity'].apply(lambda x: 1 if x > 0 else 0)"
   ]
  },
  {
   "cell_type": "code",
   "execution_count": 45,
   "metadata": {},
   "outputs": [
    {
     "data": {
      "text/plain": [
       "0    1655\n",
       "1     613\n",
       "Name: polarity, dtype: int64"
      ]
     },
     "execution_count": 45,
     "metadata": {},
     "output_type": "execute_result"
    }
   ],
   "source": [
    "bjp_df['polarity'].value_counts()"
   ]
  },
  {
   "cell_type": "code",
   "execution_count": 46,
   "metadata": {},
   "outputs": [
    {
     "data": {
      "text/plain": [
       "0    4132\n",
       "1    1676\n",
       "Name: polarity, dtype: int64"
      ]
     },
     "execution_count": 46,
     "metadata": {},
     "output_type": "execute_result"
    }
   ],
   "source": [
    "congress_df['polarity'].value_counts()"
   ]
  },
  {
   "cell_type": "markdown",
   "metadata": {},
   "source": [
    "**RESAMPLING THE DATA** <br>\n",
    "Since the ratio of the negative tweets to positive tweets is not proportional. Our data set is not balanced. This will create a bias while training the model. To avoid this I have resampled the data. "
   ]
  },
  {
   "cell_type": "code",
   "execution_count": 83,
   "metadata": {},
   "outputs": [],
   "source": [
    "#new data files to gather data to resample the orginal data\n",
    "bjp_df_jan = pd.read_csv('BJP_data_jan.csv')\n",
    "congress_df_jan = pd.read_csv('Congress_data_jan.csv')"
   ]
  },
  {
   "cell_type": "code",
   "execution_count": 85,
   "metadata": {},
   "outputs": [],
   "source": [
    "bjp_df_jan = bjp_df_jan[['id','clean_text','polarity','place']]\n",
    "congress_df_jan = congress_df_jan[['id','clean_text','polarity','place']]"
   ]
  },
  {
   "cell_type": "code",
   "execution_count": 86,
   "metadata": {},
   "outputs": [],
   "source": [
    "bjp_df_jan['polarity'] = bjp_df_jan['polarity'].apply(lambda x: 1 if x > 0 else 0)\n",
    "congress_df_jan['polarity'] = congress_df_jan['polarity'].apply(lambda x: 1 if x > 0 else 0)"
   ]
  },
  {
   "cell_type": "code",
   "execution_count": 90,
   "metadata": {},
   "outputs": [
    {
     "data": {
      "text/plain": [
       "0    1303\n",
       "1     853\n",
       "Name: polarity, dtype: int64"
      ]
     },
     "execution_count": 90,
     "metadata": {},
     "output_type": "execute_result"
    }
   ],
   "source": [
    "bjp_df_jan['polarity'].value_counts()"
   ]
  },
  {
   "cell_type": "code",
   "execution_count": 92,
   "metadata": {},
   "outputs": [
    {
     "data": {
      "text/plain": [
       "0    857\n",
       "1    352\n",
       "Name: polarity, dtype: int64"
      ]
     },
     "execution_count": 92,
     "metadata": {},
     "output_type": "execute_result"
    }
   ],
   "source": [
    "congress_df_jan['polarity'].value_counts()"
   ]
  },
  {
   "cell_type": "markdown",
   "metadata": {},
   "source": [
    "In order to balance the data we need to add only positive tweets into our original data. From the new data, I will only pick the positive tweets and then add them to our main data."
   ]
  },
  {
   "cell_type": "code",
   "execution_count": 93,
   "metadata": {},
   "outputs": [],
   "source": [
    "bjp_df_jan =bjp_df_jan.loc[bjp_df_jan['polarity'] == 1]\n",
    "congress_df_jan =congress_df_jan.loc[congress_df_jan['polarity'] == 1]"
   ]
  },
  {
   "cell_type": "code",
   "execution_count": 58,
   "metadata": {},
   "outputs": [],
   "source": [
    "#appending positive tweets to the origninal data\n",
    "bjp = bjp_df.append(bjp_df_jan, ignore_index=True)\n",
    "congress = congress_df.append(congress_df_jan, ignore_index=True)"
   ]
  },
  {
   "cell_type": "code",
   "execution_count": 100,
   "metadata": {},
   "outputs": [
    {
     "data": {
      "text/plain": [
       "0    1655\n",
       "1    1226\n",
       "Name: polarity, dtype: int64"
      ]
     },
     "execution_count": 100,
     "metadata": {},
     "output_type": "execute_result"
    }
   ],
   "source": [
    "bjp['polarity'].value_counts()"
   ]
  },
  {
   "cell_type": "code",
   "execution_count": 101,
   "metadata": {},
   "outputs": [
    {
     "data": {
      "text/plain": [
       "0    4132\n",
       "1    3352\n",
       "Name: polarity, dtype: int64"
      ]
     },
     "execution_count": 101,
     "metadata": {},
     "output_type": "execute_result"
    }
   ],
   "source": [
    "congress['polarity'].value_counts()"
   ]
  },
  {
   "cell_type": "markdown",
   "metadata": {},
   "source": [
    "The above data is now sampled and the proportion of both negative and positive tweets is balanced"
   ]
  },
  {
   "cell_type": "code",
   "execution_count": 112,
   "metadata": {},
   "outputs": [],
   "source": [
    "bjp.to_csv('bjp_final',index= False)\n",
    "congress.to_csv('congress_final', index = False)"
   ]
  },
  {
   "cell_type": "markdown",
   "metadata": {},
   "source": [
    "Now, I will combine the congress and bjp data frames to create a single dataframe which will be useful in our future analysis."
   ]
  },
  {
   "cell_type": "markdown",
   "metadata": {},
   "source": [
    "**CREATING FINAL DATASET**"
   ]
  },
  {
   "cell_type": "code",
   "execution_count": 102,
   "metadata": {},
   "outputs": [],
   "source": [
    "frames = [bjp, congress]\n",
    "election_data = pd.concat(frames)"
   ]
  },
  {
   "cell_type": "code",
   "execution_count": 109,
   "metadata": {},
   "outputs": [],
   "source": [
    "#saving the Final data into a csv \n",
    "election_data.to_csv('election',index=False)"
   ]
  }
 ],
 "metadata": {
  "kernelspec": {
   "display_name": "Python 3",
   "language": "python",
   "name": "python3"
  },
  "language_info": {
   "codemirror_mode": {
    "name": "ipython",
    "version": 3
   },
   "file_extension": ".py",
   "mimetype": "text/x-python",
   "name": "python",
   "nbconvert_exporter": "python",
   "pygments_lexer": "ipython3",
   "version": "3.6.7"
  }
 },
 "nbformat": 4,
 "nbformat_minor": 2
}
