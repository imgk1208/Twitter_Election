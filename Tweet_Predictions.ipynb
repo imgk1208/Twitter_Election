{
 "cells": [
  {
   "cell_type": "code",
   "execution_count": 63,
   "metadata": {},
   "outputs": [],
   "source": [
    "import pandas as pd\n",
    "import re\n",
    "from keras.preprocessing.text import Tokenizer\n",
    "from keras.preprocessing.sequence import pad_sequences\n",
    "import numpy as np"
   ]
  },
  {
   "cell_type": "markdown",
   "metadata": {},
   "source": [
    "Load the test data on which the predictions will be made using our best model"
   ]
  },
  {
   "cell_type": "code",
   "execution_count": 6,
   "metadata": {},
   "outputs": [],
   "source": [
    "congress_test = pd.read_csv('congress_test.csv')\n",
    "bjp_test = pd.read_csv('bjp_test.csv')"
   ]
  },
  {
   "cell_type": "code",
   "execution_count": 11,
   "metadata": {},
   "outputs": [],
   "source": [
    "congress_test =congress_test[:2000]\n",
    "bjp_test = bjp_test[0:2000]"
   ]
  },
  {
   "cell_type": "code",
   "execution_count": 81,
   "metadata": {},
   "outputs": [
    {
     "data": {
      "text/html": [
       "<div>\n",
       "<style scoped>\n",
       "    .dataframe tbody tr th:only-of-type {\n",
       "        vertical-align: middle;\n",
       "    }\n",
       "\n",
       "    .dataframe tbody tr th {\n",
       "        vertical-align: top;\n",
       "    }\n",
       "\n",
       "    .dataframe thead th {\n",
       "        text-align: right;\n",
       "    }\n",
       "</style>\n",
       "<table border=\"1\" class=\"dataframe\">\n",
       "  <thead>\n",
       "    <tr style=\"text-align: right;\">\n",
       "      <th></th>\n",
       "      <th>id</th>\n",
       "      <th>created_at</th>\n",
       "      <th>source</th>\n",
       "      <th>original_text</th>\n",
       "      <th>clean_text</th>\n",
       "      <th>sentiment</th>\n",
       "      <th>polarity</th>\n",
       "      <th>subjectivity</th>\n",
       "      <th>lang</th>\n",
       "      <th>favorite_count</th>\n",
       "      <th>retweet_count</th>\n",
       "      <th>original_author</th>\n",
       "      <th>possibly_sensitive</th>\n",
       "      <th>hashtags</th>\n",
       "      <th>user_mentions</th>\n",
       "      <th>place</th>\n",
       "      <th>place_coord_boundaries</th>\n",
       "    </tr>\n",
       "  </thead>\n",
       "  <tbody>\n",
       "    <tr>\n",
       "      <th>0</th>\n",
       "      <td>1.120000e+18</td>\n",
       "      <td>Sun Apr 21 23:49:57 +0000 2019</td>\n",
       "      <td>&lt;a href=\"http://twitter.com/download/iphone\" r...</td>\n",
       "      <td>RT @mathrubhumieng: Felt excited when Rahul Un...</td>\n",
       "      <td>RT mathrubhumieng Felt excited Rahul Uncle hug...</td>\n",
       "      <td>Sentiment(polarity=0.375, subjectivity=0.75)</td>\n",
       "      <td>0.375</td>\n",
       "      <td>0.750</td>\n",
       "      <td>en</td>\n",
       "      <td>0.0</td>\n",
       "      <td>1.0</td>\n",
       "      <td>ManuParel</td>\n",
       "      <td>False</td>\n",
       "      <td>RahulGandhi, mathrubhumi</td>\n",
       "      <td>mathrubhumieng</td>\n",
       "      <td>Dubai</td>\n",
       "      <td>NaN</td>\n",
       "    </tr>\n",
       "    <tr>\n",
       "      <th>1</th>\n",
       "      <td>1.120000e+18</td>\n",
       "      <td>Sun Apr 21 23:43:58 +0000 2019</td>\n",
       "      <td>&lt;a href=\"http://twitter.com/download/android\" ...</td>\n",
       "      <td>RT @TheRealMukeshK: Here is UK #CompaniesHouse...</td>\n",
       "      <td>RT TheRealMukeshK Here UK CompaniesHouse filin...</td>\n",
       "      <td>Sentiment(polarity=0.0, subjectivity=0.0)</td>\n",
       "      <td>0.000</td>\n",
       "      <td>0.000</td>\n",
       "      <td>en</td>\n",
       "      <td>0.0</td>\n",
       "      <td>1449.0</td>\n",
       "      <td>rohit_thakkar</td>\n",
       "      <td>NaN</td>\n",
       "      <td>CompaniesHouse, RahulGandhi</td>\n",
       "      <td>TheRealMukeshK</td>\n",
       "      <td>NaN</td>\n",
       "      <td>NaN</td>\n",
       "    </tr>\n",
       "    <tr>\n",
       "      <th>2</th>\n",
       "      <td>1.120000e+18</td>\n",
       "      <td>Sun Apr 21 23:36:50 +0000 2019</td>\n",
       "      <td>&lt;a href=\"http://twitter.com\" rel=\"nofollow\"&gt;Tw...</td>\n",
       "      <td>Indian voters when casting ballot, remember:\\r...</td>\n",
       "      <td>Indian voters casting ballot remember Ur respo...</td>\n",
       "      <td>Sentiment(polarity=0.0, subjectivity=0.125)</td>\n",
       "      <td>0.000</td>\n",
       "      <td>0.125</td>\n",
       "      <td>en</td>\n",
       "      <td>0.0</td>\n",
       "      <td>0.0</td>\n",
       "      <td>rasikv</td>\n",
       "      <td>NaN</td>\n",
       "      <td>SoniaGandhi</td>\n",
       "      <td>NaN</td>\n",
       "      <td>Melbourne</td>\n",
       "      <td>NaN</td>\n",
       "    </tr>\n",
       "    <tr>\n",
       "      <th>3</th>\n",
       "      <td>1.120000e+18</td>\n",
       "      <td>Sun Apr 21 23:35:11 +0000 2019</td>\n",
       "      <td>&lt;a href=\"http://twitter.com/download/iphone\" r...</td>\n",
       "      <td>RT @TheRealMukeshK: Here is UK #CompaniesHouse...</td>\n",
       "      <td>RT TheRealMukeshK Here UK CompaniesHouse filin...</td>\n",
       "      <td>Sentiment(polarity=0.0, subjectivity=0.0)</td>\n",
       "      <td>0.000</td>\n",
       "      <td>0.000</td>\n",
       "      <td>en</td>\n",
       "      <td>0.0</td>\n",
       "      <td>1449.0</td>\n",
       "      <td>krishnarajJGD</td>\n",
       "      <td>NaN</td>\n",
       "      <td>CompaniesHouse, RahulGandhi</td>\n",
       "      <td>TheRealMukeshK</td>\n",
       "      <td>NaN</td>\n",
       "      <td>NaN</td>\n",
       "    </tr>\n",
       "    <tr>\n",
       "      <th>4</th>\n",
       "      <td>1.120000e+18</td>\n",
       "      <td>Sun Apr 21 23:31:52 +0000 2019</td>\n",
       "      <td>&lt;a href=\"http://twitter.com/download/iphone\" r...</td>\n",
       "      <td>@srivatsayb @UrbanXXpat Strange is our #Democr...</td>\n",
       "      <td>srivatsayb UrbanXXpat Strange Democracy RahulG...</td>\n",
       "      <td>Sentiment(polarity=-0.05, subjectivity=0.15)</td>\n",
       "      <td>-0.050</td>\n",
       "      <td>0.150</td>\n",
       "      <td>en</td>\n",
       "      <td>0.0</td>\n",
       "      <td>0.0</td>\n",
       "      <td>DrSundara3</td>\n",
       "      <td>NaN</td>\n",
       "      <td>Democracy, RahulGandhi, MP</td>\n",
       "      <td>srivatsayb, UrbanXXpat</td>\n",
       "      <td>Bangalore</td>\n",
       "      <td>NaN</td>\n",
       "    </tr>\n",
       "  </tbody>\n",
       "</table>\n",
       "</div>"
      ],
      "text/plain": [
       "             id                      created_at  \\\n",
       "0  1.120000e+18  Sun Apr 21 23:49:57 +0000 2019   \n",
       "1  1.120000e+18  Sun Apr 21 23:43:58 +0000 2019   \n",
       "2  1.120000e+18  Sun Apr 21 23:36:50 +0000 2019   \n",
       "3  1.120000e+18  Sun Apr 21 23:35:11 +0000 2019   \n",
       "4  1.120000e+18  Sun Apr 21 23:31:52 +0000 2019   \n",
       "\n",
       "                                              source  \\\n",
       "0  <a href=\"http://twitter.com/download/iphone\" r...   \n",
       "1  <a href=\"http://twitter.com/download/android\" ...   \n",
       "2  <a href=\"http://twitter.com\" rel=\"nofollow\">Tw...   \n",
       "3  <a href=\"http://twitter.com/download/iphone\" r...   \n",
       "4  <a href=\"http://twitter.com/download/iphone\" r...   \n",
       "\n",
       "                                       original_text  \\\n",
       "0  RT @mathrubhumieng: Felt excited when Rahul Un...   \n",
       "1  RT @TheRealMukeshK: Here is UK #CompaniesHouse...   \n",
       "2  Indian voters when casting ballot, remember:\\r...   \n",
       "3  RT @TheRealMukeshK: Here is UK #CompaniesHouse...   \n",
       "4  @srivatsayb @UrbanXXpat Strange is our #Democr...   \n",
       "\n",
       "                                          clean_text  \\\n",
       "0  RT mathrubhumieng Felt excited Rahul Uncle hug...   \n",
       "1  RT TheRealMukeshK Here UK CompaniesHouse filin...   \n",
       "2  Indian voters casting ballot remember Ur respo...   \n",
       "3  RT TheRealMukeshK Here UK CompaniesHouse filin...   \n",
       "4  srivatsayb UrbanXXpat Strange Democracy RahulG...   \n",
       "\n",
       "                                      sentiment  polarity  subjectivity lang  \\\n",
       "0  Sentiment(polarity=0.375, subjectivity=0.75)     0.375         0.750   en   \n",
       "1     Sentiment(polarity=0.0, subjectivity=0.0)     0.000         0.000   en   \n",
       "2   Sentiment(polarity=0.0, subjectivity=0.125)     0.000         0.125   en   \n",
       "3     Sentiment(polarity=0.0, subjectivity=0.0)     0.000         0.000   en   \n",
       "4  Sentiment(polarity=-0.05, subjectivity=0.15)    -0.050         0.150   en   \n",
       "\n",
       "   favorite_count  retweet_count original_author possibly_sensitive  \\\n",
       "0             0.0            1.0       ManuParel              False   \n",
       "1             0.0         1449.0   rohit_thakkar                NaN   \n",
       "2             0.0            0.0          rasikv                NaN   \n",
       "3             0.0         1449.0   krishnarajJGD                NaN   \n",
       "4             0.0            0.0      DrSundara3                NaN   \n",
       "\n",
       "                      hashtags           user_mentions      place  \\\n",
       "0     RahulGandhi, mathrubhumi          mathrubhumieng      Dubai   \n",
       "1  CompaniesHouse, RahulGandhi          TheRealMukeshK        NaN   \n",
       "2                  SoniaGandhi                     NaN  Melbourne   \n",
       "3  CompaniesHouse, RahulGandhi          TheRealMukeshK        NaN   \n",
       "4   Democracy, RahulGandhi, MP  srivatsayb, UrbanXXpat  Bangalore   \n",
       "\n",
       "  place_coord_boundaries  \n",
       "0                    NaN  \n",
       "1                    NaN  \n",
       "2                    NaN  \n",
       "3                    NaN  \n",
       "4                    NaN  "
      ]
     },
     "execution_count": 81,
     "metadata": {},
     "output_type": "execute_result"
    }
   ],
   "source": [
    "congress_test[0:5]"
   ]
  },
  {
   "cell_type": "markdown",
   "metadata": {},
   "source": [
    "Preprocessing the test tweets in the same manner that we had done for the training data."
   ]
  },
  {
   "cell_type": "code",
   "execution_count": 29,
   "metadata": {},
   "outputs": [],
   "source": [
    "def tweet_to_words( raw_review ):\n",
    "    # Remove non-letters        \n",
    "    letters_only = re.sub(\"[^a-zA-Z]\", \" \", str(raw_review))\n",
    "    tweet = re.sub('((www\\.[^\\s]+)|(https?://[^\\s]+))', 'URL', str(letters_only)) # remove URLs\n",
    "    tweet = re.sub('RT', ' ', str(tweet)) \n",
    "\n",
    "    #Convert to lower case, split into individual words\n",
    "    tweet = letters_only.lower().split()                             \n",
    "    \n",
    "    \n",
    "    \n",
    "    return( \" \".join(tweet))"
   ]
  },
  {
   "cell_type": "code",
   "execution_count": 45,
   "metadata": {},
   "outputs": [],
   "source": [
    "# Get the number of Tweets based on the dataframe column size\n",
    "num_tweets = 2000\n",
    "\n",
    "# Initialize an empty list to hold the clean reviews\n",
    "\n",
    "\n",
    "# Loop over each tweet; create an index i that goes from 0 to the length\n",
    "# of the tweet list\n",
    "def clean_test(dataframe):\n",
    "    clean_train_tweets = []\n",
    "    for i in range( 0, num_tweets ):\n",
    "        # Call function for each one, and add the result to the list of\n",
    "        clean_train_tweets.append( tweet_to_words(dataframe[i]))\n",
    "    return clean_train_tweets        "
   ]
  },
  {
   "cell_type": "code",
   "execution_count": 50,
   "metadata": {},
   "outputs": [],
   "source": [
    "congress_inputs = clean_test(congress_test['clean_text'])\n",
    "bjp_inputs = clean_test(bjp_test['clean_text'])"
   ]
  },
  {
   "cell_type": "markdown",
   "metadata": {},
   "source": [
    "Tokenize the text data. The length of the vector is kept 2000. Because this was the same lenght that was using for the Bidirectional LSTM which was our best model."
   ]
  },
  {
   "cell_type": "code",
   "execution_count": 57,
   "metadata": {},
   "outputs": [],
   "source": [
    "def tokenze_data(data_inputs):\n",
    "        tokenizer = Tokenizer(nb_words=2000)\n",
    "        tokenizer.fit_on_texts(data_inputs)\n",
    "        sequences = tokenizer.texts_to_sequences(data_inputs)\n",
    "\n",
    "        word_index = tokenizer.word_index\n",
    "        print('Found %s unique tokens.' % len(word_index))\n",
    "        max_len = 200\n",
    "        data = pad_sequences(sequences, max_len)\n",
    "        print('Shape of data tensor:', data.shape)\n",
    "        indices = np.arange(data.shape[0])\n",
    "        np.random.shuffle(indices)\n",
    "        data = data[indices]\n",
    "        return data"
   ]
  },
  {
   "cell_type": "code",
   "execution_count": 64,
   "metadata": {},
   "outputs": [
    {
     "name": "stdout",
     "output_type": "stream",
     "text": [
      "Found 2588 unique tokens.\n",
      "Shape of data tensor: (2000, 200)\n",
      "Found 3459 unique tokens.\n",
      "Shape of data tensor: (2000, 200)\n"
     ]
    }
   ],
   "source": [
    "congress_inputs = tokenze_data(congress_inputs)\n",
    "bjp_inputs = tokenze_data(bjp_inputs)"
   ]
  },
  {
   "cell_type": "markdown",
   "metadata": {},
   "source": [
    "**LOAD THE BEST MODEL (BIDIRECTIONAL LSTM)**"
   ]
  },
  {
   "cell_type": "code",
   "execution_count": 67,
   "metadata": {},
   "outputs": [
    {
     "name": "stdout",
     "output_type": "stream",
     "text": [
      "Loaded model from disk\n"
     ]
    }
   ],
   "source": [
    "from keras.models import model_from_json\n",
    "# load json and create model\n",
    "json_file = open(\".\\\\SavedModels\\\\Model_Bidir_LSTM.h5\", 'r')\n",
    "loaded_model_json = json_file.read()\n",
    "json_file.close()\n",
    "loaded_model = model_from_json(loaded_model_json)\n",
    "# load weights into new model\n",
    "loaded_model.load_weights(\".\\\\SavedModels\\\\Weights_bidir_LSTM.h5\")\n",
    "print(\"Loaded model from disk\")"
   ]
  },
  {
   "cell_type": "markdown",
   "metadata": {},
   "source": [
    "**SENTIMENT PREDICTION USING THE MODEL**"
   ]
  },
  {
   "cell_type": "code",
   "execution_count": 69,
   "metadata": {},
   "outputs": [],
   "source": [
    "congress_prediction = loaded_model.predict(congress_inputs)\n",
    "bjp_prediction = loaded_model.predict(bjp_inputs)"
   ]
  },
  {
   "cell_type": "markdown",
   "metadata": {},
   "source": [
    "If the probabilty of the outcome is greater than 0.5 for any class then the sentiment belongs to that particular class. Since we are concerned with only the count of positive sentiments. We will check the second column variables for our inference. "
   ]
  },
  {
   "cell_type": "code",
   "execution_count": 77,
   "metadata": {},
   "outputs": [],
   "source": [
    "congress_pred = (congress_prediction>0.5)\n",
    "bjp_pred = (bjp_prediction>0.5)"
   ]
  },
  {
   "cell_type": "code",
   "execution_count": 108,
   "metadata": {},
   "outputs": [],
   "source": [
    "def get_predictions(party_pred):\n",
    "    x = 0\n",
    "    for i in party_pred:\n",
    "        if(i[1]==True):\n",
    "            x+=1\n",
    "    return x"
   ]
  },
  {
   "cell_type": "code",
   "execution_count": 109,
   "metadata": {},
   "outputs": [
    {
     "name": "stdout",
     "output_type": "stream",
     "text": [
      "Congress Positive Tweets: 416\n",
      "BJP Positive Tweets: 660\n"
     ]
    }
   ],
   "source": [
    "congress_numbers = get_predictions(congress_pred)\n",
    "bjp_numbers = get_predictions(bjp_pred)\n",
    "print(\"Congress Positive Tweets:\",congress_numbers)\n",
    "print(\"BJP Positive Tweets:\",bjp_numbers)"
   ]
  },
  {
   "cell_type": "markdown",
   "metadata": {},
   "source": [
    "Just like the training data the majority of the tweets have a negative sentiment attached to them. After feeding 2000 tweets for both the Congress and BJP. The model predicted that BJP has 660 positive tweets while Congress has 416 positive tweets.<br><br> This indicated that the contest this year would be close and the chances of BJP winning on Majority like the 2015 elections are less. This has been corraborated by the poor perfomace of the BJP in the recent state elections where the lost power in three Major Hindi speaking states Rajasthan, Madhya Pradesh and Chattishgarh. <br><br> The challanges faced in this project were the limited data availablity and that Twitter as a platform is only accessable to the elite urban population and I is difficult to make any absolute prediction on a phenomenon like the Indian Election. The Coming month will tell how things unfold for both the parties.  "
   ]
  }
 ],
 "metadata": {
  "kernelspec": {
   "display_name": "Python 3",
   "language": "python",
   "name": "python3"
  },
  "language_info": {
   "codemirror_mode": {
    "name": "ipython",
    "version": 3
   },
   "file_extension": ".py",
   "mimetype": "text/x-python",
   "name": "python",
   "nbconvert_exporter": "python",
   "pygments_lexer": "ipython3",
   "version": "3.6.7"
  }
 },
 "nbformat": 4,
 "nbformat_minor": 2
}
