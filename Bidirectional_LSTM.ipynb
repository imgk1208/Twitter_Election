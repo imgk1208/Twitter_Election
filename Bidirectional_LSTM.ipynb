{
 "cells": [
  {
   "cell_type": "code",
   "execution_count": 48,
   "metadata": {},
   "outputs": [],
   "source": [
    "import pandas as pd\n",
    "from nltk.tokenize import word_tokenize\n",
    "from string import punctuation \n",
    "from nltk.corpus import stopwords \n",
    "import re\n",
    "from keras.preprocessing.text import Tokenizer\n",
    "from keras.preprocessing.sequence import pad_sequences\n",
    "import keras\n",
    "import numpy as np\n",
    "from keras.layers import Embedding, SimpleRNN,Input\n",
    "from keras.models import Sequential,Model\n",
    "from keras.preprocessing import sequence\n",
    "from keras.layers import Dense,Dropout\n",
    "from keras.layers import Embedding, Flatten, Dense,Conv1D,MaxPooling1D\n",
    "from sklearn import preprocessing\n",
    "import matplotlib.pyplot as plt\n",
    "from sklearn.model_selection import train_test_split\n",
    "import itertools    \n",
    "import seaborn as sns\n",
    "from sklearn.metrics import confusion_matrix\n",
    "from keras.utils import to_categorical\n",
    "from collections import Counter\n",
    "import tensorflow as tf\n",
    "from keras.layers import LSTM, Bidirectional, Dropout"
   ]
  },
  {
   "cell_type": "markdown",
   "metadata": {},
   "source": [
    "**LOAD DATA**"
   ]
  },
  {
   "cell_type": "code",
   "execution_count": 2,
   "metadata": {},
   "outputs": [],
   "source": [
    "election = pd.read_csv('election.csv')"
   ]
  },
  {
   "cell_type": "code",
   "execution_count": 3,
   "metadata": {},
   "outputs": [
    {
     "data": {
      "text/html": [
       "<div>\n",
       "<style scoped>\n",
       "    .dataframe tbody tr th:only-of-type {\n",
       "        vertical-align: middle;\n",
       "    }\n",
       "\n",
       "    .dataframe tbody tr th {\n",
       "        vertical-align: top;\n",
       "    }\n",
       "\n",
       "    .dataframe thead th {\n",
       "        text-align: right;\n",
       "    }\n",
       "</style>\n",
       "<table border=\"1\" class=\"dataframe\">\n",
       "  <thead>\n",
       "    <tr style=\"text-align: right;\">\n",
       "      <th></th>\n",
       "      <th>id</th>\n",
       "      <th>clean_text</th>\n",
       "      <th>polarity</th>\n",
       "      <th>place</th>\n",
       "    </tr>\n",
       "  </thead>\n",
       "  <tbody>\n",
       "    <tr>\n",
       "      <th>0</th>\n",
       "      <td>1.11772E+18</td>\n",
       "      <td>RT chitraSD Jogging RahulGandhi ’ memory famil...</td>\n",
       "      <td>0</td>\n",
       "      <td>Madras</td>\n",
       "    </tr>\n",
       "    <tr>\n",
       "      <th>1</th>\n",
       "      <td>1118061974292533249</td>\n",
       "      <td>AAP INC want alliance stop division Anti-Modi ...</td>\n",
       "      <td>0</td>\n",
       "      <td>NaN</td>\n",
       "    </tr>\n",
       "    <tr>\n",
       "      <th>2</th>\n",
       "      <td>1117870131969810432</td>\n",
       "      <td>RT pankaj_shankar She priyankagandhi slams Mod...</td>\n",
       "      <td>0</td>\n",
       "      <td>NaN</td>\n",
       "    </tr>\n",
       "    <tr>\n",
       "      <th>3</th>\n",
       "      <td>1.1177E+18</td>\n",
       "      <td>RT airnewsalerts SC says RahulGandhi 's remark...</td>\n",
       "      <td>0</td>\n",
       "      <td>New Delhi</td>\n",
       "    </tr>\n",
       "    <tr>\n",
       "      <th>4</th>\n",
       "      <td>1117850484327366656</td>\n",
       "      <td>RT sachinsingh1010 75 year old Govindraj kille...</td>\n",
       "      <td>0</td>\n",
       "      <td>New Delhi Varanasi</td>\n",
       "    </tr>\n",
       "  </tbody>\n",
       "</table>\n",
       "</div>"
      ],
      "text/plain": [
       "                    id                                         clean_text  \\\n",
       "0          1.11772E+18  RT chitraSD Jogging RahulGandhi ’ memory famil...   \n",
       "1  1118061974292533249  AAP INC want alliance stop division Anti-Modi ...   \n",
       "2  1117870131969810432  RT pankaj_shankar She priyankagandhi slams Mod...   \n",
       "3           1.1177E+18  RT airnewsalerts SC says RahulGandhi 's remark...   \n",
       "4  1117850484327366656  RT sachinsingh1010 75 year old Govindraj kille...   \n",
       "\n",
       "   polarity                place  \n",
       "0         0               Madras  \n",
       "1         0                  NaN  \n",
       "2         0                  NaN  \n",
       "3         0            New Delhi  \n",
       "4         0  New Delhi Varanasi   "
      ]
     },
     "execution_count": 3,
     "metadata": {},
     "output_type": "execute_result"
    }
   ],
   "source": [
    "election.head()"
   ]
  },
  {
   "cell_type": "markdown",
   "metadata": {},
   "source": [
    "further clean the tweets before moving ahead. The below function will remove 'RT',the URL's, converts the text to lower case and allows only alphabets to be contained in the tweet."
   ]
  },
  {
   "cell_type": "code",
   "execution_count": 4,
   "metadata": {},
   "outputs": [],
   "source": [
    "def tweet_to_words( raw_review ):\n",
    "    # Remove non-letters        \n",
    "    letters_only = re.sub(\"[^a-zA-Z]\", \" \", raw_review)\n",
    "    tweet = re.sub('((www\\.[^\\s]+)|(https?://[^\\s]+))', 'URL', letters_only) # remove URLs\n",
    "    tweet = re.sub('RT', ' ', str(tweet)) \n",
    "\n",
    "    #Convert to lower case, split into individual words\n",
    "    tweet = letters_only.lower().split()                             \n",
    "    \n",
    "    \n",
    "    \n",
    "    return( \" \".join(tweet))"
   ]
  },
  {
   "cell_type": "code",
   "execution_count": 25,
   "metadata": {},
   "outputs": [],
   "source": [
    "# Get the number of Tweets based on the dataframe column size\n",
    "num_tweets = 10365\n",
    "vocab_size = 10000\n",
    "rnn_cell_size = 128\n",
    "\n",
    "\n",
    "clean_train_tweets = []\n",
    "\n",
    "# Loop over each tweet; create an index i that goes from 0 to the length\n",
    "# of the tweet list \n",
    "for i in range( 0, num_tweets ):\n",
    "    # Call function for each one, and add the result to the list of\n",
    "    # clean reviews\n",
    "    clean_train_tweets.append( tweet_to_words( election[\"clean_text\"][i] ) )"
   ]
  },
  {
   "cell_type": "code",
   "execution_count": 10,
   "metadata": {},
   "outputs": [],
   "source": [
    "data_inputs =  clean_train_tweets\n",
    "data_labels = list(election.polarity)"
   ]
  },
  {
   "cell_type": "markdown",
   "metadata": {},
   "source": [
    "**TOKENIZE DATA**"
   ]
  },
  {
   "cell_type": "markdown",
   "metadata": {},
   "source": [
    "We tokenize the text and keep the maximum length of the the vector 1000."
   ]
  },
  {
   "cell_type": "code",
   "execution_count": 20,
   "metadata": {},
   "outputs": [
    {
     "name": "stderr",
     "output_type": "stream",
     "text": [
      "C:\\Users\\Abhishek\\Anaconda3_NEW\\lib\\site-packages\\keras_preprocessing\\text.py:177: UserWarning: The `nb_words` argument in `Tokenizer` has been renamed `num_words`.\n",
      "  warnings.warn('The `nb_words` argument in `Tokenizer` '\n"
     ]
    },
    {
     "name": "stdout",
     "output_type": "stream",
     "text": [
      "Found 8213 unique tokens.\n",
      "Shape of data tensor: (10365, 200)\n",
      "Shape of label tensor: (10365, 2)\n"
     ]
    }
   ],
   "source": [
    "tokenizer = Tokenizer(nb_words=2000)\n",
    "tokenizer.fit_on_texts(data_inputs)\n",
    "sequences = tokenizer.texts_to_sequences(data_inputs)\n",
    "\n",
    "word_index = tokenizer.word_index\n",
    "print('Found %s unique tokens.' % len(word_index))\n",
    "max_len = 200\n",
    "data = pad_sequences(sequences, max_len)\n",
    "\n",
    "labels = keras.utils.to_categorical(np.asarray(data_labels))\n",
    "print('Shape of data tensor:', data.shape)\n",
    "print('Shape of label tensor:', labels.shape)"
   ]
  },
  {
   "cell_type": "code",
   "execution_count": 12,
   "metadata": {},
   "outputs": [],
   "source": [
    "indices = np.arange(data.shape[0])\n",
    "np.random.shuffle(indices)\n",
    "data = data[indices]\n",
    "labels = labels[indices]\n",
    "nb_validation_samples = int(.20 * data.shape[0])\n",
    "\n",
    "x_train = data[:-nb_validation_samples]\n",
    "y_train = labels[:-nb_validation_samples]\n",
    "x_val = data[-nb_validation_samples:]\n",
    "y_val = labels[-nb_validation_samples:]"
   ]
  },
  {
   "cell_type": "markdown",
   "metadata": {},
   "source": [
    "**MODEL CREATION**"
   ]
  },
  {
   "cell_type": "code",
   "execution_count": 50,
   "metadata": {},
   "outputs": [
    {
     "name": "stdout",
     "output_type": "stream",
     "text": [
      "model fitting - Bidirectional LSTM\n",
      "_________________________________________________________________\n",
      "Layer (type)                 Output Shape              Param #   \n",
      "=================================================================\n",
      "input_10 (InputLayer)        (None, 200)               0         \n",
      "_________________________________________________________________\n",
      "embedding_4 (Embedding)      (None, 200, 100)          821400    \n",
      "_________________________________________________________________\n",
      "bidirectional_2 (Bidirection (None, 200)               160800    \n",
      "_________________________________________________________________\n",
      "dense_2 (Dense)              (None, 2)                 402       \n",
      "=================================================================\n",
      "Total params: 982,602\n",
      "Trainable params: 161,202\n",
      "Non-trainable params: 821,400\n",
      "_________________________________________________________________\n"
     ]
    },
    {
     "name": "stderr",
     "output_type": "stream",
     "text": [
      "C:\\Users\\Abhishek\\Anaconda3_NEW\\lib\\site-packages\\ipykernel_launcher.py:13: UserWarning: The `nb_epoch` argument in `fit` has been renamed `epochs`.\n",
      "  del sys.path[0]\n"
     ]
    },
    {
     "name": "stdout",
     "output_type": "stream",
     "text": [
      "Train on 8292 samples, validate on 2073 samples\n",
      "Epoch 1/100\n",
      "8292/8292 [==============================] - 42s 5ms/step - loss: 0.3838 - acc: 0.8257 - val_loss: 0.2738 - val_acc: 0.8688\n",
      "Epoch 2/100\n",
      "8292/8292 [==============================] - 41s 5ms/step - loss: 0.2253 - acc: 0.9038 - val_loss: 0.1811 - val_acc: 0.9310\n",
      "Epoch 3/100\n",
      "8292/8292 [==============================] - 42s 5ms/step - loss: 0.1570 - acc: 0.9395 - val_loss: 0.1696 - val_acc: 0.9339\n",
      "Epoch 4/100\n",
      "8292/8292 [==============================] - 42s 5ms/step - loss: 0.1102 - acc: 0.9582 - val_loss: 0.1124 - val_acc: 0.9629\n",
      "Epoch 5/100\n",
      "8292/8292 [==============================] - 42s 5ms/step - loss: 0.0825 - acc: 0.9713 - val_loss: 0.1106 - val_acc: 0.9653\n",
      "Epoch 6/100\n",
      "8292/8292 [==============================] - 41s 5ms/step - loss: 0.0665 - acc: 0.9762 - val_loss: 0.2136 - val_acc: 0.9276\n",
      "Epoch 7/100\n",
      "8292/8292 [==============================] - 41s 5ms/step - loss: 0.0525 - acc: 0.9822 - val_loss: 0.1227 - val_acc: 0.9609\n",
      "Epoch 8/100\n",
      "8292/8292 [==============================] - 42s 5ms/step - loss: 0.0376 - acc: 0.9866 - val_loss: 0.0935 - val_acc: 0.9740\n",
      "Epoch 9/100\n",
      "8292/8292 [==============================] - 42s 5ms/step - loss: 0.0319 - acc: 0.9888 - val_loss: 0.1001 - val_acc: 0.9764\n",
      "Epoch 10/100\n",
      "8292/8292 [==============================] - 41s 5ms/step - loss: 0.0250 - acc: 0.9920 - val_loss: 0.0999 - val_acc: 0.9725\n",
      "Epoch 11/100\n",
      "8292/8292 [==============================] - 41s 5ms/step - loss: 0.0235 - acc: 0.9940 - val_loss: 0.0872 - val_acc: 0.9793\n",
      "Epoch 12/100\n",
      "8292/8292 [==============================] - 41s 5ms/step - loss: 0.0199 - acc: 0.9941 - val_loss: 0.1042 - val_acc: 0.9764\n",
      "Epoch 13/100\n",
      "8292/8292 [==============================] - 41s 5ms/step - loss: 0.0138 - acc: 0.9973 - val_loss: 0.0894 - val_acc: 0.9841\n",
      "Epoch 14/100\n",
      "8292/8292 [==============================] - 43s 5ms/step - loss: 0.0275 - acc: 0.9945 - val_loss: 0.1008 - val_acc: 0.9841\n",
      "Epoch 15/100\n",
      "8292/8292 [==============================] - 43s 5ms/step - loss: 0.0130 - acc: 0.9969 - val_loss: 0.1045 - val_acc: 0.9807\n",
      "Epoch 16/100\n",
      "8292/8292 [==============================] - 46s 6ms/step - loss: 0.0111 - acc: 0.9966 - val_loss: 0.1077 - val_acc: 0.9812\n",
      "Epoch 17/100\n",
      "8292/8292 [==============================] - 43s 5ms/step - loss: 0.0109 - acc: 0.9967 - val_loss: 0.0843 - val_acc: 0.9831\n",
      "Epoch 18/100\n",
      "8292/8292 [==============================] - 46s 5ms/step - loss: 0.0099 - acc: 0.9972 - val_loss: 0.0961 - val_acc: 0.9812\n",
      "Epoch 19/100\n",
      "8292/8292 [==============================] - 45s 5ms/step - loss: 0.0062 - acc: 0.9982 - val_loss: 0.0973 - val_acc: 0.9860\n",
      "Epoch 20/100\n",
      "8292/8292 [==============================] - 42s 5ms/step - loss: 0.0067 - acc: 0.9984 - val_loss: 0.1268 - val_acc: 0.9812\n",
      "Epoch 21/100\n",
      "8292/8292 [==============================] - 42s 5ms/step - loss: 0.0072 - acc: 0.9982 - val_loss: 0.0942 - val_acc: 0.9822\n",
      "Epoch 22/100\n",
      "8292/8292 [==============================] - 45s 5ms/step - loss: 0.0043 - acc: 0.9984 - val_loss: 0.1135 - val_acc: 0.9846\n",
      "Epoch 23/100\n",
      "8292/8292 [==============================] - 54s 7ms/step - loss: 0.0065 - acc: 0.9988 - val_loss: 0.1140 - val_acc: 0.9836\n",
      "Epoch 24/100\n",
      "8292/8292 [==============================] - 58s 7ms/step - loss: 0.0077 - acc: 0.9987 - val_loss: 0.1176 - val_acc: 0.9826\n",
      "Epoch 25/100\n",
      "8292/8292 [==============================] - 60s 7ms/step - loss: 0.0039 - acc: 0.9983 - val_loss: 0.1066 - val_acc: 0.9846\n",
      "Epoch 26/100\n",
      "8292/8292 [==============================] - 62s 8ms/step - loss: 0.0060 - acc: 0.9987 - val_loss: 0.1205 - val_acc: 0.9850\n",
      "Epoch 27/100\n",
      "8292/8292 [==============================] - 44s 5ms/step - loss: 0.0817 - acc: 0.9890 - val_loss: 0.2316 - val_acc: 0.9551\n",
      "Epoch 28/100\n",
      "8292/8292 [==============================] - 44s 5ms/step - loss: 0.1110 - acc: 0.9767 - val_loss: 0.1375 - val_acc: 0.9706\n",
      "Epoch 29/100\n",
      "8292/8292 [==============================] - 43s 5ms/step - loss: 0.7518 - acc: 0.9057 - val_loss: 0.3265 - val_acc: 0.8982\n",
      "Epoch 30/100\n",
      "8292/8292 [==============================] - 42s 5ms/step - loss: 0.0176 - acc: 0.9951 - val_loss: 0.0817 - val_acc: 0.9836\n",
      "Epoch 31/100\n",
      "8292/8292 [==============================] - 42s 5ms/step - loss: 0.0180 - acc: 0.9958 - val_loss: 0.1024 - val_acc: 0.9802\n",
      "Epoch 32/100\n",
      "8292/8292 [==============================] - 42s 5ms/step - loss: 0.0056 - acc: 0.9983 - val_loss: 0.0947 - val_acc: 0.9836\n",
      "Epoch 33/100\n",
      "8292/8292 [==============================] - 42s 5ms/step - loss: 0.0057 - acc: 0.9988 - val_loss: 0.1136 - val_acc: 0.9788\n",
      "Epoch 34/100\n",
      "8292/8292 [==============================] - 42s 5ms/step - loss: 0.0023 - acc: 0.9995 - val_loss: 0.1139 - val_acc: 0.9836\n",
      "Epoch 35/100\n",
      "8292/8292 [==============================] - 42s 5ms/step - loss: 0.0029 - acc: 0.9990 - val_loss: 0.1484 - val_acc: 0.9793\n",
      "Epoch 36/100\n",
      "8292/8292 [==============================] - 42s 5ms/step - loss: 0.0014 - acc: 0.9996 - val_loss: 0.1126 - val_acc: 0.9875\n",
      "Epoch 37/100\n",
      "8292/8292 [==============================] - 42s 5ms/step - loss: 0.0046 - acc: 0.9989 - val_loss: 0.1238 - val_acc: 0.9831\n",
      "Epoch 38/100\n",
      "8292/8292 [==============================] - 42s 5ms/step - loss: 0.0010 - acc: 0.9999 - val_loss: 0.1277 - val_acc: 0.9855\n",
      "Epoch 39/100\n",
      "8292/8292 [==============================] - 42s 5ms/step - loss: 0.0023 - acc: 0.9992 - val_loss: 0.1544 - val_acc: 0.9793\n",
      "Epoch 40/100\n",
      "8292/8292 [==============================] - 42s 5ms/step - loss: 0.0035 - acc: 0.9995 - val_loss: 0.1393 - val_acc: 0.9826\n",
      "Epoch 41/100\n",
      "8292/8292 [==============================] - 42s 5ms/step - loss: 0.0022 - acc: 0.9994 - val_loss: 0.1868 - val_acc: 0.9759\n",
      "Epoch 42/100\n",
      "8292/8292 [==============================] - 43s 5ms/step - loss: 0.0078 - acc: 0.9979 - val_loss: 0.1512 - val_acc: 0.9812\n",
      "Epoch 43/100\n",
      "8292/8292 [==============================] - 42s 5ms/step - loss: 0.0131 - acc: 0.9975 - val_loss: 0.1164 - val_acc: 0.9831\n",
      "Epoch 44/100\n",
      "8292/8292 [==============================] - 42s 5ms/step - loss: 0.0039 - acc: 0.9992 - val_loss: 0.1231 - val_acc: 0.9846\n",
      "Epoch 45/100\n",
      "8292/8292 [==============================] - 41s 5ms/step - loss: 0.0040 - acc: 0.9988 - val_loss: 0.1048 - val_acc: 0.9855\n",
      "Epoch 46/100\n",
      "8292/8292 [==============================] - 41s 5ms/step - loss: 0.0013 - acc: 0.9995 - val_loss: 0.1488 - val_acc: 0.9822\n",
      "Epoch 47/100\n",
      "8292/8292 [==============================] - 41s 5ms/step - loss: 0.0016 - acc: 0.9995 - val_loss: 0.1675 - val_acc: 0.9793\n",
      "Epoch 48/100\n",
      "8292/8292 [==============================] - 42s 5ms/step - loss: 0.0013 - acc: 0.9999 - val_loss: 0.1009 - val_acc: 0.9879\n",
      "Epoch 49/100\n",
      "8292/8292 [==============================] - 42s 5ms/step - loss: 0.0019 - acc: 0.9995 - val_loss: 0.1470 - val_acc: 0.9826\n",
      "Epoch 50/100\n",
      "8292/8292 [==============================] - 42s 5ms/step - loss: 0.0025 - acc: 0.9994 - val_loss: 0.1347 - val_acc: 0.9855\n",
      "Epoch 51/100\n",
      "8292/8292 [==============================] - 41s 5ms/step - loss: 9.5382e-04 - acc: 0.9999 - val_loss: 0.1687 - val_acc: 0.9812\n",
      "Epoch 52/100\n",
      "8292/8292 [==============================] - 41s 5ms/step - loss: 0.0037 - acc: 0.9989 - val_loss: 0.1142 - val_acc: 0.9875\n",
      "Epoch 53/100\n",
      "8292/8292 [==============================] - 41s 5ms/step - loss: 9.1690e-04 - acc: 0.9996 - val_loss: 0.1280 - val_acc: 0.9846\n",
      "Epoch 54/100\n",
      "8292/8292 [==============================] - 41s 5ms/step - loss: 0.0027 - acc: 0.9993 - val_loss: 0.1214 - val_acc: 0.9865\n",
      "Epoch 55/100\n",
      "8292/8292 [==============================] - 44s 5ms/step - loss: 0.0012 - acc: 0.9999 - val_loss: 0.1378 - val_acc: 0.9860\n",
      "Epoch 56/100\n",
      "8292/8292 [==============================] - 44s 5ms/step - loss: 0.0026 - acc: 0.9994 - val_loss: 0.1481 - val_acc: 0.9822\n",
      "Epoch 57/100\n",
      "8292/8292 [==============================] - 42s 5ms/step - loss: 0.0011 - acc: 0.9999 - val_loss: 0.1652 - val_acc: 0.9802\n",
      "Epoch 58/100\n",
      "8292/8292 [==============================] - 42s 5ms/step - loss: 9.9491e-04 - acc: 0.9999 - val_loss: 0.1533 - val_acc: 0.9817\n",
      "Epoch 59/100\n",
      "8292/8292 [==============================] - 42s 5ms/step - loss: 0.0022 - acc: 0.9996 - val_loss: 0.1972 - val_acc: 0.9793\n",
      "Epoch 60/100\n",
      "8292/8292 [==============================] - 42s 5ms/step - loss: 0.0016 - acc: 0.9998 - val_loss: 0.1525 - val_acc: 0.9850\n",
      "Epoch 61/100\n",
      "8292/8292 [==============================] - 43s 5ms/step - loss: 9.2185e-04 - acc: 0.9998 - val_loss: 0.1618 - val_acc: 0.9841\n",
      "Epoch 62/100\n",
      "8292/8292 [==============================] - 43s 5ms/step - loss: 0.0643 - acc: 0.9919 - val_loss: 0.1528 - val_acc: 0.9831\n",
      "Epoch 63/100\n",
      "8292/8292 [==============================] - 46s 6ms/step - loss: 0.0043 - acc: 0.9993 - val_loss: 0.1206 - val_acc: 0.9865\n",
      "Epoch 64/100\n",
      "8292/8292 [==============================] - 45s 5ms/step - loss: 0.0043 - acc: 0.9987 - val_loss: 0.1304 - val_acc: 0.9855\n",
      "Epoch 65/100\n",
      "8292/8292 [==============================] - 45s 5ms/step - loss: 0.0030 - acc: 0.9994 - val_loss: 0.1579 - val_acc: 0.9812\n",
      "Epoch 66/100\n",
      "8292/8292 [==============================] - 46s 6ms/step - loss: 0.0027 - acc: 0.9996 - val_loss: 0.1398 - val_acc: 0.9850\n",
      "Epoch 67/100\n",
      "8292/8292 [==============================] - 44s 5ms/step - loss: 0.0036 - acc: 0.9995 - val_loss: 0.1410 - val_acc: 0.9841\n",
      "Epoch 68/100\n",
      "8292/8292 [==============================] - 43s 5ms/step - loss: 0.0103 - acc: 0.9986 - val_loss: 0.1892 - val_acc: 0.9807\n",
      "Epoch 69/100\n",
      "8292/8292 [==============================] - 42s 5ms/step - loss: 0.0027 - acc: 0.9996 - val_loss: 0.1641 - val_acc: 0.9812\n",
      "Epoch 70/100\n",
      "8292/8292 [==============================] - 42s 5ms/step - loss: 0.0050 - acc: 0.9993 - val_loss: 0.1694 - val_acc: 0.9817\n",
      "Epoch 71/100\n",
      "8292/8292 [==============================] - 42s 5ms/step - loss: 8.8913e-04 - acc: 0.9998 - val_loss: 0.1751 - val_acc: 0.9822\n",
      "Epoch 72/100\n",
      "8292/8292 [==============================] - 42s 5ms/step - loss: 9.2372e-04 - acc: 0.9999 - val_loss: 0.1547 - val_acc: 0.9875\n",
      "Epoch 73/100\n",
      "8292/8292 [==============================] - 42s 5ms/step - loss: 0.0013 - acc: 0.9999 - val_loss: 0.2280 - val_acc: 0.9802\n",
      "Epoch 74/100\n",
      "8292/8292 [==============================] - 42s 5ms/step - loss: 0.0038 - acc: 0.9994 - val_loss: 0.1566 - val_acc: 0.9860\n",
      "Epoch 75/100\n",
      "8292/8292 [==============================] - 42s 5ms/step - loss: 0.0018 - acc: 0.9996 - val_loss: 0.1515 - val_acc: 0.9841\n",
      "Epoch 76/100\n",
      "8292/8292 [==============================] - 42s 5ms/step - loss: 0.0011 - acc: 0.9999 - val_loss: 0.2015 - val_acc: 0.9778\n",
      "Epoch 77/100\n",
      "8292/8292 [==============================] - 42s 5ms/step - loss: 0.0010 - acc: 0.9996 - val_loss: 0.1673 - val_acc: 0.9826\n",
      "Epoch 78/100\n",
      "8292/8292 [==============================] - 42s 5ms/step - loss: 0.0021 - acc: 0.9996 - val_loss: 0.1819 - val_acc: 0.9836\n",
      "Epoch 79/100\n",
      "8292/8292 [==============================] - 42s 5ms/step - loss: 0.0014 - acc: 0.9994 - val_loss: 0.1781 - val_acc: 0.9817\n",
      "Epoch 80/100\n",
      "8292/8292 [==============================] - 42s 5ms/step - loss: 0.0027 - acc: 0.9995 - val_loss: 0.1252 - val_acc: 0.9889\n",
      "Epoch 81/100\n",
      "8292/8292 [==============================] - 42s 5ms/step - loss: 0.0034 - acc: 0.9996 - val_loss: 0.1616 - val_acc: 0.9836\n",
      "Epoch 82/100\n",
      "8292/8292 [==============================] - 42s 5ms/step - loss: 9.2261e-04 - acc: 0.9999 - val_loss: 0.1547 - val_acc: 0.9846\n",
      "Epoch 83/100\n",
      "8292/8292 [==============================] - 42s 5ms/step - loss: 0.0044 - acc: 0.9994 - val_loss: 0.1844 - val_acc: 0.9817\n",
      "Epoch 84/100\n",
      "8292/8292 [==============================] - 42s 5ms/step - loss: 0.0011 - acc: 0.9999 - val_loss: 0.1719 - val_acc: 0.9841\n",
      "Epoch 85/100\n",
      "8292/8292 [==============================] - 42s 5ms/step - loss: 0.0033 - acc: 0.9995 - val_loss: 0.1598 - val_acc: 0.9836\n",
      "Epoch 86/100\n",
      "8292/8292 [==============================] - 42s 5ms/step - loss: 0.0010 - acc: 0.9999 - val_loss: 0.2413 - val_acc: 0.9764\n",
      "Epoch 87/100\n",
      "8292/8292 [==============================] - 42s 5ms/step - loss: 9.8231e-04 - acc: 0.9999 - val_loss: 0.1646 - val_acc: 0.9855\n",
      "Epoch 88/100\n",
      "8292/8292 [==============================] - 42s 5ms/step - loss: 8.3027e-04 - acc: 0.9999 - val_loss: 0.1871 - val_acc: 0.9817\n",
      "Epoch 89/100\n",
      "8292/8292 [==============================] - 42s 5ms/step - loss: 0.0011 - acc: 0.9998 - val_loss: 0.1610 - val_acc: 0.9826\n",
      "Epoch 90/100\n",
      "8292/8292 [==============================] - 42s 5ms/step - loss: 0.0035 - acc: 0.9996 - val_loss: 0.1519 - val_acc: 0.9855\n",
      "Epoch 91/100\n",
      "8292/8292 [==============================] - 42s 5ms/step - loss: 6.2086e-04 - acc: 0.9999 - val_loss: 0.1600 - val_acc: 0.9855\n",
      "Epoch 92/100\n",
      "8292/8292 [==============================] - 42s 5ms/step - loss: 0.0049 - acc: 0.9995 - val_loss: 0.1653 - val_acc: 0.9841\n",
      "Epoch 93/100\n",
      "8292/8292 [==============================] - 43s 5ms/step - loss: 9.9004e-04 - acc: 0.9999 - val_loss: 0.1557 - val_acc: 0.9836\n",
      "Epoch 94/100\n",
      "8292/8292 [==============================] - 44s 5ms/step - loss: 0.0014 - acc: 0.9996 - val_loss: 0.1581 - val_acc: 0.9855\n",
      "Epoch 95/100\n",
      "8292/8292 [==============================] - 45s 5ms/step - loss: 0.0016 - acc: 0.9998 - val_loss: 0.1712 - val_acc: 0.9831\n",
      "Epoch 96/100\n",
      "8292/8292 [==============================] - 49s 6ms/step - loss: 8.1130e-04 - acc: 0.9999 - val_loss: 0.1410 - val_acc: 0.9870\n",
      "Epoch 97/100\n",
      "8292/8292 [==============================] - 46s 6ms/step - loss: 0.0012 - acc: 0.9999 - val_loss: 0.1802 - val_acc: 0.9841\n",
      "Epoch 98/100\n",
      "8292/8292 [==============================] - 45s 5ms/step - loss: 0.0012 - acc: 0.9999 - val_loss: 0.1673 - val_acc: 0.9850\n",
      "Epoch 99/100\n",
      "8292/8292 [==============================] - 45s 5ms/step - loss: 0.0040 - acc: 0.9992 - val_loss: 0.1582 - val_acc: 0.9850\n",
      "Epoch 100/100\n",
      "8292/8292 [==============================] - 43s 5ms/step - loss: 0.0010 - acc: 0.9999 - val_loss: 0.2021 - val_acc: 0.9778\n"
     ]
    },
    {
     "data": {
      "text/plain": [
       "<keras.callbacks.History at 0x26246f792e8>"
      ]
     },
     "execution_count": 50,
     "metadata": {},
     "output_type": "execute_result"
    }
   ],
   "source": [
    "sequence_input = Input(shape=(max_len,), dtype='int32')\n",
    "embedded_sequences = embedding_layer(sequence_input)\n",
    "l_lstm = Bidirectional(LSTM(100))(embedded_sequences)\n",
    "preds = Dense(2, activation='softmax')(l_lstm)\n",
    "model = Model(sequence_input, preds)\n",
    "model.compile(loss='categorical_crossentropy',\n",
    "              optimizer='rmsprop',\n",
    "              metrics=['acc'])\n",
    "\n",
    "print(\"model fitting - Bidirectional LSTM\")\n",
    "model.summary()\n",
    "model.fit(x_train, y_train, validation_data=(x_val, y_val),\n",
    "          nb_epoch=100, batch_size=50)"
   ]
  },
  {
   "cell_type": "markdown",
   "metadata": {},
   "source": [
    "**SAVING MODEL AND WEIGHTS**"
   ]
  },
  {
   "cell_type": "code",
   "execution_count": 58,
   "metadata": {},
   "outputs": [
    {
     "name": "stdout",
     "output_type": "stream",
     "text": [
      "Saved model to disk\n"
     ]
    }
   ],
   "source": [
    "# serialize model to JSON\n",
    "model_json = model.to_json()\n",
    "with open(\".\\\\SavedModels\\\\Model_Bidir_LSTM.h5\", \"w\") as json_file:\n",
    "    json_file.write(model_json)\n",
    "# serialize weights to HDF5\n",
    "model.save_weights(\".\\\\SavedModels\\\\Weights_bidir_LSTM.h5\")\n",
    "print(\"Saved model to disk\")"
   ]
  },
  {
   "cell_type": "markdown",
   "metadata": {},
   "source": [
    "**MODEL LOSS AND ACCURACY**"
   ]
  },
  {
   "cell_type": "code",
   "execution_count": 61,
   "metadata": {},
   "outputs": [
    {
     "name": "stdout",
     "output_type": "stream",
     "text": [
      "Validation Loss: 0.20\n",
      "Validation Accuracy: 0.98\n"
     ]
    }
   ],
   "source": [
    "loss,acc = model.evaluate(x_val,y_val, verbose = 2, batch_size = 50)\n",
    "print(\"Validation Loss: %.2f\" % (loss))\n",
    "print(\"Validation Accuracy: %.2f\" % (acc))"
   ]
  },
  {
   "cell_type": "markdown",
   "metadata": {},
   "source": [
    "**MODEL PERFORMANCE**"
   ]
  },
  {
   "cell_type": "code",
   "execution_count": 62,
   "metadata": {},
   "outputs": [],
   "source": [
    "def plot_modelacc(fit_model):\n",
    "    with plt.style.context('ggplot'):\n",
    "            plt.plot(fit_model.history['acc'])\n",
    "            plt.plot(fit_model.history['val_acc'])\n",
    "            plt.ylim(0,1)\n",
    "            plt.title(\"MODEL ACCURACY\")\n",
    "            plt.xlabel(\"# of EPOCHS\")\n",
    "            plt.ylabel(\"ACCURACY\")\n",
    "            plt.legend(['train', 'test'], loc='upper left')\n",
    "    return plt.show()"
   ]
  },
  {
   "cell_type": "code",
   "execution_count": 63,
   "metadata": {},
   "outputs": [],
   "source": [
    "def plot_model_loss(fit_model):\n",
    "    with plt.style.context('ggplot'):\n",
    "            plt.plot(fit_model.history['loss'])\n",
    "            plt.plot(fit_model.history['val_loss'])\n",
    "            plt.title(\"MODEL LOSS\")\n",
    "            plt.xlabel(\"# of EPOCHS\")\n",
    "            plt.ylabel(\"LOSS\")\n",
    "            plt.legend(['train', 'test'], loc='upper left')\n",
    "    return plt.show()"
   ]
  },
  {
   "cell_type": "code",
   "execution_count": 65,
   "metadata": {},
   "outputs": [
    {
     "data": {
      "image/png": "[encoded data removed]",
      "text/plain": [
       "<Figure size 432x288 with 1 Axes>"
      ]
     },
     "metadata": {},
     "output_type": "display_data"
    },
    {
     "data": {
      "image/png": "[encoded data removed]",
      "text/plain": [
       "<Figure size 432x288 with 1 Axes>"
      ]
     },
     "metadata": {},
     "output_type": "display_data"
    }
   ],
   "source": [
    "plot_modelacc(model.history)\n",
    "plot_model_loss(model.history)"
   ]
  },
  {
   "cell_type": "markdown",
   "metadata": {},
   "source": [
    "**CONFUSION MATRIX**"
   ]
  },
  {
   "cell_type": "code",
   "execution_count": 66,
   "metadata": {},
   "outputs": [
    {
     "name": "stdout",
     "output_type": "stream",
     "text": [
      "[[1140   35]\n",
      " [  11  887]]\n"
     ]
    },
    {
     "data": {
      "image/png": "[encoded data removed]",
      "text/plain": [
       "<Figure size 432x288 with 2 Axes>"
      ]
     },
     "metadata": {
      "needs_background": "light"
     },
     "output_type": "display_data"
    }
   ],
   "source": [
    "# Predicting the Test set results\n",
    "y_pred = model.predict(x_val)\n",
    "# cutoff 0.5\n",
    "y_pred = (y_pred > 0.5)\n",
    "\n",
    "y_pred = y_pred.astype(int)\n",
    "\n",
    "\n",
    "# Confusion matrix \n",
    "cm = confusion_matrix(y_val.argmax(axis=1), y_pred.argmax(axis=1))\n",
    "print(cm)\n",
    "\n",
    "LABELS = ['negative', 'positive','neutral']\n",
    "sns.heatmap(cm, annot=True, xticklabels=LABELS, yticklabels=LABELS, fmt='g')\n",
    "xl = plt.xlabel(\"Predicted\")\n",
    "yl = plt.ylabel(\"Actual\")"
   ]
  },
  {
   "cell_type": "markdown",
   "metadata": {},
   "source": [
    "True Positives: 887(Predicted True and True in reality)<br>\n",
    "True Negative: 1140(Predicted False and False in realtity)<br>\n",
    "False Positive: 35 (Predicted Positve but Negative in reality)<br>\n",
    "False Negative: 11 (Predicted Negative but Positive in reality)"
   ]
  }
 ],
 "metadata": {
  "kernelspec": {
   "display_name": "Python 3",
   "language": "python",
   "name": "python3"
  },
  "language_info": {
   "codemirror_mode": {
    "name": "ipython",
    "version": 3
   },
   "file_extension": ".py",
   "mimetype": "text/x-python",
   "name": "python",
   "nbconvert_exporter": "python",
   "pygments_lexer": "ipython3",
   "version": "3.6.7"
  }
 },
 "nbformat": 4,
 "nbformat_minor": 2
}
