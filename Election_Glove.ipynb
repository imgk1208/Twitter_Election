{
 "cells": [
  {
   "cell_type": "code",
   "execution_count": 180,
   "metadata": {},
   "outputs": [],
   "source": [
    "import pandas as pd\n",
    "from nltk.tokenize import word_tokenize\n",
    "from string import punctuation \n",
    "from nltk.corpus import stopwords \n",
    "import re\n",
    "from keras.preprocessing.text import Tokenizer\n",
    "from keras.preprocessing.sequence import pad_sequences\n",
    "import keras\n",
    "import numpy as np\n",
    "from keras.layers import Embedding, SimpleRNN,Input\n",
    "from keras.models import Sequential,Model\n",
    "from keras.preprocessing import sequence\n",
    "from keras.layers import Dense,Dropout\n",
    "from keras.layers import Embedding, Flatten, Dense,Conv1D,MaxPooling1D\n",
    "from sklearn import preprocessing\n",
    "import matplotlib.pyplot as plt\n",
    "from sklearn.model_selection import train_test_split\n",
    "import itertools    \n",
    "import seaborn as sns\n",
    "from sklearn.metrics import confusion_matrix\n",
    "from keras.utils import to_categorical\n",
    "from collections import Counter"
   ]
  },
  {
   "cell_type": "markdown",
   "metadata": {},
   "source": [
    "**LOAD DATA**"
   ]
  },
  {
   "cell_type": "code",
   "execution_count": 151,
   "metadata": {},
   "outputs": [],
   "source": [
    "election = pd.read_csv('election.csv')"
   ]
  },
  {
   "cell_type": "code",
   "execution_count": 154,
   "metadata": {},
   "outputs": [
    {
     "data": {
      "text/html": [
       "<div>\n",
       "<style scoped>\n",
       "    .dataframe tbody tr th:only-of-type {\n",
       "        vertical-align: middle;\n",
       "    }\n",
       "\n",
       "    .dataframe tbody tr th {\n",
       "        vertical-align: top;\n",
       "    }\n",
       "\n",
       "    .dataframe thead th {\n",
       "        text-align: right;\n",
       "    }\n",
       "</style>\n",
       "<table border=\"1\" class=\"dataframe\">\n",
       "  <thead>\n",
       "    <tr style=\"text-align: right;\">\n",
       "      <th></th>\n",
       "      <th>id</th>\n",
       "      <th>clean_text</th>\n",
       "      <th>polarity</th>\n",
       "      <th>place</th>\n",
       "    </tr>\n",
       "  </thead>\n",
       "  <tbody>\n",
       "    <tr>\n",
       "      <th>0</th>\n",
       "      <td>1.11772E+18</td>\n",
       "      <td>RT chitraSD Jogging RahulGandhi ’ memory famil...</td>\n",
       "      <td>0</td>\n",
       "      <td>Madras</td>\n",
       "    </tr>\n",
       "    <tr>\n",
       "      <th>1</th>\n",
       "      <td>1118061974292533249</td>\n",
       "      <td>AAP INC want alliance stop division Anti-Modi ...</td>\n",
       "      <td>0</td>\n",
       "      <td>NaN</td>\n",
       "    </tr>\n",
       "    <tr>\n",
       "      <th>2</th>\n",
       "      <td>1117870131969810432</td>\n",
       "      <td>RT pankaj_shankar She priyankagandhi slams Mod...</td>\n",
       "      <td>0</td>\n",
       "      <td>NaN</td>\n",
       "    </tr>\n",
       "    <tr>\n",
       "      <th>3</th>\n",
       "      <td>1.1177E+18</td>\n",
       "      <td>RT airnewsalerts SC says RahulGandhi 's remark...</td>\n",
       "      <td>0</td>\n",
       "      <td>New Delhi</td>\n",
       "    </tr>\n",
       "    <tr>\n",
       "      <th>4</th>\n",
       "      <td>1117850484327366656</td>\n",
       "      <td>RT sachinsingh1010 75 year old Govindraj kille...</td>\n",
       "      <td>0</td>\n",
       "      <td>New Delhi Varanasi</td>\n",
       "    </tr>\n",
       "  </tbody>\n",
       "</table>\n",
       "</div>"
      ],
      "text/plain": [
       "                    id                                         clean_text  \\\n",
       "0          1.11772E+18  RT chitraSD Jogging RahulGandhi ’ memory famil...   \n",
       "1  1118061974292533249  AAP INC want alliance stop division Anti-Modi ...   \n",
       "2  1117870131969810432  RT pankaj_shankar She priyankagandhi slams Mod...   \n",
       "3           1.1177E+18  RT airnewsalerts SC says RahulGandhi 's remark...   \n",
       "4  1117850484327366656  RT sachinsingh1010 75 year old Govindraj kille...   \n",
       "\n",
       "   polarity                place  \n",
       "0         0               Madras  \n",
       "1         0                  NaN  \n",
       "2         0                  NaN  \n",
       "3         0            New Delhi  \n",
       "4         0  New Delhi Varanasi   "
      ]
     },
     "execution_count": 154,
     "metadata": {},
     "output_type": "execute_result"
    }
   ],
   "source": [
    "election.head()"
   ]
  },
  {
   "cell_type": "markdown",
   "metadata": {},
   "source": [
    "Despite the initial cleaning of the tweets there have some unnecessry elements like 'RT' and the URL's. Let's further clean the tweets before moving ahead. The below function will remove 'RT',the URL's, converts the text to lower case and allows only alphabets to be contained in the tweet."
   ]
  },
  {
   "cell_type": "code",
   "execution_count": 145,
   "metadata": {},
   "outputs": [],
   "source": [
    "def tweet_to_words( raw_review ):\n",
    "    # Remove non-letters        \n",
    "    letters_only = re.sub(\"[^a-zA-Z]\", \" \", raw_review)\n",
    "    tweet = re.sub('((www\\.[^\\s]+)|(https?://[^\\s]+))', 'URL', letters_only) # remove URLs\n",
    "    tweet = re.sub('RT', ' ', str(tweet)) \n",
    "\n",
    "    #Convert to lower case, split into individual words\n",
    "    tweet = letters_only.lower().split()                             \n",
    "    \n",
    "    \n",
    "    \n",
    "    return( \" \".join(tweet))"
   ]
  },
  {
   "cell_type": "code",
   "execution_count": 148,
   "metadata": {},
   "outputs": [],
   "source": [
    "# Get the number of Tweets based on the dataframe column size\n",
    "num_tweets = 10365\n",
    "\n",
    "# Initialize an empty list to hold the clean reviews\n",
    "clean_train_tweets = []\n",
    "\n",
    "# Loop over each tweet; create an index i that goes from 0 to the length\n",
    "# of the tweet list \n",
    "for i in range( 0, num_tweets ):\n",
    "    # Call function for each one, and add the result to the list of\n",
    "    # clean reviews\n",
    "    clean_train_tweets.append( tweet_to_words( election[\"clean_text\"][i] ) )"
   ]
  },
  {
   "cell_type": "code",
   "execution_count": 159,
   "metadata": {},
   "outputs": [],
   "source": [
    "data_inputs =  clean_train_tweets\n",
    "data_labels = list(election.polarity)"
   ]
  },
  {
   "cell_type": "markdown",
   "metadata": {},
   "source": [
    "**TOKENIZING DATA**"
   ]
  },
  {
   "cell_type": "markdown",
   "metadata": {},
   "source": [
    "We tokenize the text and keep the maximum length of the the vector 1000."
   ]
  },
  {
   "cell_type": "code",
   "execution_count": 170,
   "metadata": {},
   "outputs": [
    {
     "name": "stdout",
     "output_type": "stream",
     "text": [
      "Found 8213 unique tokens.\n",
      "Shape of data tensor: (10365, 1000)\n",
      "Shape of label tensor: (10365, 2)\n"
     ]
    }
   ],
   "source": [
    "tokenizer = Tokenizer(nb_words=2000)\n",
    "tokenizer.fit_on_texts(data_inputs)\n",
    "sequences = tokenizer.texts_to_sequences(data_inputs)\n",
    "\n",
    "word_index = tokenizer.word_index\n",
    "print('Found %s unique tokens.' % len(word_index))\n",
    "\n",
    "data = pad_sequences(sequences, maxlen=1000)\n",
    "\n",
    "labels = keras.utils.to_categorical(np.asarray(data_labels))\n",
    "print('Shape of data tensor:', data.shape)\n",
    "print('Shape of label tensor:', labels.shape)"
   ]
  },
  {
   "cell_type": "markdown",
   "metadata": {},
   "source": [
    "**TRAIN TEST SPLIT WITH 80:20 RATIO**"
   ]
  },
  {
   "cell_type": "code",
   "execution_count": 184,
   "metadata": {},
   "outputs": [],
   "source": [
    "indices = np.arange(data.shape[0])\n",
    "np.random.shuffle(indices)\n",
    "data = data[indices]\n",
    "labels = labels[indices]\n",
    "nb_validation_samples = int(.20 * data.shape[0])\n",
    "\n",
    "x_train = data[:-nb_validation_samples]\n",
    "y_train = labels[:-nb_validation_samples]\n",
    "x_val = data[-nb_validation_samples:]\n",
    "y_val = labels[-nb_validation_samples:]"
   ]
  },
  {
   "cell_type": "markdown",
   "metadata": {},
   "source": [
    "**CREATING EMBEDDING MATRIX WITH HELP OF PRETRAINED MODEL: GLOVE**\n",
    "\n",
    "Word Embeddings are text converted into numbers. There are number of ways to represent the numeric forms.<br>\n",
    "\n",
    "Types of embeddings: Frequency based, Prediction based.<br>Frequency Based: Tf-idf, Co-occurrence matrix<br>\n",
    "\n",
    "Prediction-Based: BOW, Skip-gram model\n",
    "Using Pre-trained word vectors: Word2vec, Glove\n",
    "\n",
    "Word Embedding is done for the experiment with the pre trained word vector Glove.\n",
    "\n",
    "Glove version used : 100-dimensional GloVe embeddings of 400k words computed on a 2014 dump of English Wikipedia. Training is performed on an aggregated global word-word co-occurrence matrix, giving us a vector space with meaningful substructures"
   ]
  },
  {
   "cell_type": "code",
   "execution_count": 174,
   "metadata": {},
   "outputs": [
    {
     "name": "stdout",
     "output_type": "stream",
     "text": [
      "Found 400000 word vectors.\n"
     ]
    }
   ],
   "source": [
    "embeddings_index = {}\n",
    "f = open( r'C:/Users/Abhishek/Untitled Folder 1/glove.6B.100d.txt', encoding =\"utf-8\")\n",
    "for line in f:\n",
    "    values = line.split()\n",
    "    word = values[0]\n",
    "    coefs = np.asarray(values[1:], dtype='float32')\n",
    "    embeddings_index[word] = coefs\n",
    "f.close()\n",
    "\n",
    "print('Found %s word vectors.' % len(embeddings_index))"
   ]
  },
  {
   "cell_type": "code",
   "execution_count": 175,
   "metadata": {},
   "outputs": [],
   "source": [
    "embedding_matrix = np.zeros((len(word_index) + 1, 100))\n",
    "for word, i in word_index.items():\n",
    "    embedding_vector = embeddings_index.get(word)\n",
    "    if embedding_vector is not None:\n",
    "        # words not found in embedding index will be all-zeros.\n",
    "        embedding_matrix[i] = embedding_vector"
   ]
  },
  {
   "cell_type": "markdown",
   "metadata": {},
   "source": [
    "Creating an embedding layer using GloVe"
   ]
  },
  {
   "cell_type": "code",
   "execution_count": 178,
   "metadata": {},
   "outputs": [],
   "source": [
    "embedding_layer = Embedding(len(word_index) + 1,\n",
    "                            100,\n",
    "                            weights=[embedding_matrix],\n",
    "                            input_length=1000,\n",
    "                            trainable=False)"
   ]
  },
  {
   "cell_type": "markdown",
   "metadata": {},
   "source": [
    "**MODEL CREATION**"
   ]
  },
  {
   "cell_type": "code",
   "execution_count": 232,
   "metadata": {},
   "outputs": [],
   "source": [
    "def model_creation():\n",
    "  input_layer = Input(shape=(1000,), dtype='int32')\n",
    "  embed_layer = embedding_layer(input_layer)\n",
    "  x = Dense(100,activation='relu')(embed_layer)\n",
    "  x = Dense(50,activation='relu', kernel_regularizer=keras.regularizers.l2(0.002))(x)\n",
    "  x = Flatten()(x)\n",
    "  x = Dense(50,activation='relu', kernel_regularizer=keras.regularizers.l2(0.002))(x)\n",
    "  x = Dropout(0.5)(x)\n",
    "  x = Dense(50, activation='relu')(x)\n",
    "  x = Dropout(0.5)(x)\n",
    "  #x = Dense(512, activation='relu')(x)\n",
    "  #x = Dropout(0.4)(x)\n",
    "  final_layer = Dense(1, activation='sigmoid')(x)\n",
    "  opt = keras.optimizers.Adam(lr= learning_rate, beta_1=0.9, beta_2=0.999, epsilon=None, decay=0.0, amsgrad=False)\n",
    "  model = Model(input_layer,final_layer)\n",
    "  model.compile(loss='categorical_crossentropy',\n",
    "              optimizer=opt,\n",
    "              metrics=['acc'])\n",
    "  return model"
   ]
  },
  {
   "cell_type": "markdown",
   "metadata": {},
   "source": [
    "**MODEL ARCHITECTURE**"
   ]
  },
  {
   "cell_type": "code",
   "execution_count": 211,
   "metadata": {},
   "outputs": [
    {
     "name": "stdout",
     "output_type": "stream",
     "text": [
      "_________________________________________________________________\n",
      "Layer (type)                 Output Shape              Param #   \n",
      "=================================================================\n",
      "input_3 (InputLayer)         (None, 1000)              0         \n",
      "_________________________________________________________________\n",
      "embedding_1 (Embedding)      (None, 1000, 100)         821400    \n",
      "_________________________________________________________________\n",
      "dense_11 (Dense)             (None, 1000, 100)         10100     \n",
      "_________________________________________________________________\n",
      "dense_12 (Dense)             (None, 1000, 50)          5050      \n",
      "_________________________________________________________________\n",
      "flatten_3 (Flatten)          (None, 50000)             0         \n",
      "_________________________________________________________________\n",
      "dense_13 (Dense)             (None, 50)                2500050   \n",
      "_________________________________________________________________\n",
      "dropout_5 (Dropout)          (None, 50)                0         \n",
      "_________________________________________________________________\n",
      "dense_14 (Dense)             (None, 50)                2550      \n",
      "_________________________________________________________________\n",
      "dropout_6 (Dropout)          (None, 50)                0         \n",
      "_________________________________________________________________\n",
      "dense_15 (Dense)             (None, 2)                 102       \n",
      "=================================================================\n",
      "Total params: 3,339,252\n",
      "Trainable params: 2,517,852\n",
      "Non-trainable params: 821,400\n",
      "_________________________________________________________________\n"
     ]
    }
   ],
   "source": [
    "model_glove.summary()"
   ]
  },
  {
   "cell_type": "code",
   "execution_count": 187,
   "metadata": {},
   "outputs": [
    {
     "name": "stdout",
     "output_type": "stream",
     "text": [
      "Train on 8292 samples, validate on 2073 samples\n",
      "Epoch 1/10\n",
      "8292/8292 [==============================] - 19s 2ms/step - loss: 0.9997 - acc: 0.5675 - val_loss: 0.9581 - val_acc: 0.6503\n",
      "Epoch 2/10\n",
      "8292/8292 [==============================] - 17s 2ms/step - loss: 0.9400 - acc: 0.6296 - val_loss: 0.8996 - val_acc: 0.7062\n",
      "Epoch 3/10\n",
      "8292/8292 [==============================] - 18s 2ms/step - loss: 0.8877 - acc: 0.6605 - val_loss: 0.8449 - val_acc: 0.7313\n",
      "Epoch 4/10\n",
      "8292/8292 [==============================] - 18s 2ms/step - loss: 0.8425 - acc: 0.6778 - val_loss: 0.7976 - val_acc: 0.7453\n",
      "Epoch 5/10\n",
      "8292/8292 [==============================] - 18s 2ms/step - loss: 0.7996 - acc: 0.7067 - val_loss: 0.7549 - val_acc: 0.7501\n",
      "Epoch 6/10\n",
      "8292/8292 [==============================] - 17s 2ms/step - loss: 0.7643 - acc: 0.7166 - val_loss: 0.7181 - val_acc: 0.7622\n",
      "Epoch 7/10\n",
      "8292/8292 [==============================] - 17s 2ms/step - loss: 0.7329 - acc: 0.7332 - val_loss: 0.6841 - val_acc: 0.7747\n",
      "Epoch 8/10\n",
      "8292/8292 [==============================] - 18s 2ms/step - loss: 0.7020 - acc: 0.7488 - val_loss: 0.6508 - val_acc: 0.7834\n",
      "Epoch 9/10\n",
      "8292/8292 [==============================] - 18s 2ms/step - loss: 0.6735 - acc: 0.7551 - val_loss: 0.6215 - val_acc: 0.7849\n",
      "Epoch 10/10\n",
      "8292/8292 [==============================] - 17s 2ms/step - loss: 0.6497 - acc: 0.7698 - val_loss: 0.5982 - val_acc: 0.7979\n"
     ]
    }
   ],
   "source": [
    "learning_rate = 0.0001\n",
    "batch_size = 1024\n",
    "epochs = 10\n",
    "model_glove = model_creation()\n",
    "model_final = model_glove.fit(x_train, y_train, validation_data=(x_val, y_val),epochs=epochs, batch_size=batch_size)"
   ]
  },
  {
   "cell_type": "markdown",
   "metadata": {},
   "source": [
    "The model gave a good preformance for just 10 epochs. The accuracy for both the training and validation was increasing steadily and the loss for the model was also decreasing.<br>\n",
    "Let's now continue training the model from where the model had left(10th epoch). "
   ]
  },
  {
   "cell_type": "code",
   "execution_count": 194,
   "metadata": {},
   "outputs": [
    {
     "name": "stdout",
     "output_type": "stream",
     "text": [
      "Train on 8292 samples, validate on 2073 samples\n",
      "Epoch 1/100\n",
      "8292/8292 [==============================] - 19s 2ms/step - loss: 0.6153 - acc: 0.7871 - val_loss: 0.5660 - val_acc: 0.8037\n",
      "Epoch 2/100\n",
      "8292/8292 [==============================] - 18s 2ms/step - loss: 0.5975 - acc: 0.7958 - val_loss: 0.5480 - val_acc: 0.8162\n",
      "Epoch 3/100\n",
      "8292/8292 [==============================] - 18s 2ms/step - loss: 0.5812 - acc: 0.8052 - val_loss: 0.5335 - val_acc: 0.8254\n",
      "Epoch 4/100\n",
      "8292/8292 [==============================] - 18s 2ms/step - loss: 0.5621 - acc: 0.8160 - val_loss: 0.5185 - val_acc: 0.8297\n",
      "Epoch 5/100\n",
      "8292/8292 [==============================] - 18s 2ms/step - loss: 0.5465 - acc: 0.8254 - val_loss: 0.5056 - val_acc: 0.8408\n",
      "Epoch 6/100\n",
      "8292/8292 [==============================] - 17s 2ms/step - loss: 0.5367 - acc: 0.8243 - val_loss: 0.4907 - val_acc: 0.8370\n",
      "Epoch 7/100\n",
      "8292/8292 [==============================] - 17s 2ms/step - loss: 0.5194 - acc: 0.8302 - val_loss: 0.4805 - val_acc: 0.8500\n",
      "Epoch 8/100\n",
      "8292/8292 [==============================] - 17s 2ms/step - loss: 0.5125 - acc: 0.8411 - val_loss: 0.4694 - val_acc: 0.8471\n",
      "Epoch 9/100\n",
      "8292/8292 [==============================] - 17s 2ms/step - loss: 0.4998 - acc: 0.8444 - val_loss: 0.4603 - val_acc: 0.8509\n",
      "Epoch 10/100\n",
      "8292/8292 [==============================] - 18s 2ms/step - loss: 0.4907 - acc: 0.8465 - val_loss: 0.4505 - val_acc: 0.8572\n",
      "Epoch 11/100\n",
      "8292/8292 [==============================] - 18s 2ms/step - loss: 0.4839 - acc: 0.8500 - val_loss: 0.4421 - val_acc: 0.8591\n",
      "Epoch 12/100\n",
      "8292/8292 [==============================] - 18s 2ms/step - loss: 0.4726 - acc: 0.8536 - val_loss: 0.4330 - val_acc: 0.8630\n",
      "Epoch 13/100\n",
      "8292/8292 [==============================] - 20s 2ms/step - loss: 0.4618 - acc: 0.8623 - val_loss: 0.4234 - val_acc: 0.8659\n",
      "Epoch 14/100\n",
      "8292/8292 [==============================] - 18s 2ms/step - loss: 0.4479 - acc: 0.8725 - val_loss: 0.4165 - val_acc: 0.8693\n",
      "Epoch 15/100\n",
      "8292/8292 [==============================] - 18s 2ms/step - loss: 0.4431 - acc: 0.8677 - val_loss: 0.4074 - val_acc: 0.8751\n",
      "Epoch 16/100\n",
      "8292/8292 [==============================] - 18s 2ms/step - loss: 0.4346 - acc: 0.8682 - val_loss: 0.4019 - val_acc: 0.8755\n",
      "Epoch 17/100\n",
      "8292/8292 [==============================] - 18s 2ms/step - loss: 0.4222 - acc: 0.8824 - val_loss: 0.3936 - val_acc: 0.8862\n",
      "Epoch 18/100\n",
      "8292/8292 [==============================] - 18s 2ms/step - loss: 0.4152 - acc: 0.8808 - val_loss: 0.3857 - val_acc: 0.8833\n",
      "Epoch 19/100\n",
      "8292/8292 [==============================] - 18s 2ms/step - loss: 0.4124 - acc: 0.8830 - val_loss: 0.3783 - val_acc: 0.8895\n",
      "Epoch 20/100\n",
      "8292/8292 [==============================] - 18s 2ms/step - loss: 0.4034 - acc: 0.8895 - val_loss: 0.3733 - val_acc: 0.8939\n",
      "Epoch 21/100\n",
      "8292/8292 [==============================] - 18s 2ms/step - loss: 0.3939 - acc: 0.8886 - val_loss: 0.3684 - val_acc: 0.8890\n",
      "Epoch 22/100\n",
      "8292/8292 [==============================] - 18s 2ms/step - loss: 0.3894 - acc: 0.8977 - val_loss: 0.3637 - val_acc: 0.9001\n",
      "Epoch 23/100\n",
      "8292/8292 [==============================] - 18s 2ms/step - loss: 0.3777 - acc: 0.8968 - val_loss: 0.3577 - val_acc: 0.8929\n",
      "Epoch 24/100\n",
      "8292/8292 [==============================] - 18s 2ms/step - loss: 0.3788 - acc: 0.8956 - val_loss: 0.3505 - val_acc: 0.9045\n",
      "Epoch 25/100\n",
      "8292/8292 [==============================] - 19s 2ms/step - loss: 0.3709 - acc: 0.9028 - val_loss: 0.3458 - val_acc: 0.9069\n",
      "Epoch 26/100\n",
      "8292/8292 [==============================] - 18s 2ms/step - loss: 0.3685 - acc: 0.9039 - val_loss: 0.3473 - val_acc: 0.9021\n",
      "Epoch 27/100\n",
      "8292/8292 [==============================] - 18s 2ms/step - loss: 0.3621 - acc: 0.9033 - val_loss: 0.3400 - val_acc: 0.9045\n",
      "Epoch 28/100\n",
      "8292/8292 [==============================] - 18s 2ms/step - loss: 0.3582 - acc: 0.9070 - val_loss: 0.3335 - val_acc: 0.9112\n",
      "Epoch 29/100\n",
      "8292/8292 [==============================] - 17s 2ms/step - loss: 0.3520 - acc: 0.9117 - val_loss: 0.3299 - val_acc: 0.9108\n",
      "Epoch 30/100\n",
      "8292/8292 [==============================] - 17s 2ms/step - loss: 0.3464 - acc: 0.9124 - val_loss: 0.3249 - val_acc: 0.9132\n",
      "Epoch 31/100\n",
      "8292/8292 [==============================] - 18s 2ms/step - loss: 0.3404 - acc: 0.9135 - val_loss: 0.3212 - val_acc: 0.9122\n",
      "Epoch 32/100\n",
      "8292/8292 [==============================] - 18s 2ms/step - loss: 0.3328 - acc: 0.9180 - val_loss: 0.3164 - val_acc: 0.9165\n",
      "Epoch 33/100\n",
      "8292/8292 [==============================] - 18s 2ms/step - loss: 0.3268 - acc: 0.9199 - val_loss: 0.3130 - val_acc: 0.9190\n",
      "Epoch 34/100\n",
      "8292/8292 [==============================] - 19s 2ms/step - loss: 0.3261 - acc: 0.9206 - val_loss: 0.3107 - val_acc: 0.9243\n",
      "Epoch 35/100\n",
      "8292/8292 [==============================] - 18s 2ms/step - loss: 0.3224 - acc: 0.9243 - val_loss: 0.3073 - val_acc: 0.9214\n",
      "Epoch 36/100\n",
      "8292/8292 [==============================] - 18s 2ms/step - loss: 0.3185 - acc: 0.9244 - val_loss: 0.3029 - val_acc: 0.9252\n",
      "Epoch 37/100\n",
      "8292/8292 [==============================] - 19s 2ms/step - loss: 0.3151 - acc: 0.9246 - val_loss: 0.2997 - val_acc: 0.9219\n",
      "Epoch 38/100\n",
      "8292/8292 [==============================] - 18s 2ms/step - loss: 0.3090 - acc: 0.9314 - val_loss: 0.2971 - val_acc: 0.9267\n",
      "Epoch 39/100\n",
      "8292/8292 [==============================] - 18s 2ms/step - loss: 0.3047 - acc: 0.9302 - val_loss: 0.2955 - val_acc: 0.9310\n",
      "Epoch 40/100\n",
      "8292/8292 [==============================] - 19s 2ms/step - loss: 0.2989 - acc: 0.9328 - val_loss: 0.2908 - val_acc: 0.9247\n",
      "Epoch 41/100\n",
      "8292/8292 [==============================] - 20s 2ms/step - loss: 0.3006 - acc: 0.9315 - val_loss: 0.2867 - val_acc: 0.9325\n",
      "Epoch 42/100\n",
      "8292/8292 [==============================] - 18s 2ms/step - loss: 0.2929 - acc: 0.9352 - val_loss: 0.2858 - val_acc: 0.9339\n",
      "Epoch 43/100\n",
      "8292/8292 [==============================] - 18s 2ms/step - loss: 0.2914 - acc: 0.9349 - val_loss: 0.2816 - val_acc: 0.9320\n",
      "Epoch 44/100\n",
      "8292/8292 [==============================] - 18s 2ms/step - loss: 0.2858 - acc: 0.9398 - val_loss: 0.2785 - val_acc: 0.9334\n",
      "Epoch 45/100\n",
      "8292/8292 [==============================] - 17s 2ms/step - loss: 0.2853 - acc: 0.9390 - val_loss: 0.2761 - val_acc: 0.9363\n",
      "Epoch 46/100\n",
      "8292/8292 [==============================] - 18s 2ms/step - loss: 0.2850 - acc: 0.9383 - val_loss: 0.2767 - val_acc: 0.9363\n",
      "Epoch 47/100\n",
      "8292/8292 [==============================] - 18s 2ms/step - loss: 0.2761 - acc: 0.9413 - val_loss: 0.2709 - val_acc: 0.9378\n",
      "Epoch 48/100\n",
      "8292/8292 [==============================] - 18s 2ms/step - loss: 0.2749 - acc: 0.9428 - val_loss: 0.2693 - val_acc: 0.9421\n",
      "Epoch 49/100\n",
      "8292/8292 [==============================] - 18s 2ms/step - loss: 0.2733 - acc: 0.9450 - val_loss: 0.2713 - val_acc: 0.9373\n",
      "Epoch 50/100\n",
      "8292/8292 [==============================] - 18s 2ms/step - loss: 0.2718 - acc: 0.9434 - val_loss: 0.2644 - val_acc: 0.9416\n",
      "Epoch 51/100\n",
      "8292/8292 [==============================] - 19s 2ms/step - loss: 0.2664 - acc: 0.9461 - val_loss: 0.2618 - val_acc: 0.9426\n",
      "Epoch 52/100\n",
      "8292/8292 [==============================] - 20s 2ms/step - loss: 0.2624 - acc: 0.9495 - val_loss: 0.2599 - val_acc: 0.9411\n",
      "Epoch 53/100\n",
      "8292/8292 [==============================] - 19s 2ms/step - loss: 0.2590 - acc: 0.9491 - val_loss: 0.2576 - val_acc: 0.9431\n",
      "Epoch 54/100\n",
      "8292/8292 [==============================] - 18s 2ms/step - loss: 0.2564 - acc: 0.9507 - val_loss: 0.2558 - val_acc: 0.9445\n",
      "Epoch 55/100\n",
      "8292/8292 [==============================] - 17s 2ms/step - loss: 0.2540 - acc: 0.9519 - val_loss: 0.2534 - val_acc: 0.9440\n",
      "Epoch 56/100\n",
      "8292/8292 [==============================] - 17s 2ms/step - loss: 0.2539 - acc: 0.9526 - val_loss: 0.2525 - val_acc: 0.9479\n",
      "Epoch 57/100\n",
      "8292/8292 [==============================] - 17s 2ms/step - loss: 0.2471 - acc: 0.9518 - val_loss: 0.2496 - val_acc: 0.9450\n",
      "Epoch 58/100\n",
      "8292/8292 [==============================] - 17s 2ms/step - loss: 0.2472 - acc: 0.9534 - val_loss: 0.2485 - val_acc: 0.9489\n",
      "Epoch 59/100\n",
      "8292/8292 [==============================] - 17s 2ms/step - loss: 0.2433 - acc: 0.9583 - val_loss: 0.2469 - val_acc: 0.9503\n",
      "Epoch 60/100\n",
      "8292/8292 [==============================] - 17s 2ms/step - loss: 0.2412 - acc: 0.9562 - val_loss: 0.2451 - val_acc: 0.9503\n",
      "Epoch 61/100\n",
      "8292/8292 [==============================] - 17s 2ms/step - loss: 0.2391 - acc: 0.9582 - val_loss: 0.2433 - val_acc: 0.9469\n",
      "Epoch 62/100\n",
      "8292/8292 [==============================] - 17s 2ms/step - loss: 0.2376 - acc: 0.9579 - val_loss: 0.2438 - val_acc: 0.9503\n",
      "Epoch 63/100\n",
      "8292/8292 [==============================] - 17s 2ms/step - loss: 0.2358 - acc: 0.9590 - val_loss: 0.2397 - val_acc: 0.9508\n",
      "Epoch 64/100\n",
      "8292/8292 [==============================] - 19s 2ms/step - loss: 0.2327 - acc: 0.9592 - val_loss: 0.2381 - val_acc: 0.9503\n",
      "Epoch 65/100\n",
      "8292/8292 [==============================] - 19s 2ms/step - loss: 0.2293 - acc: 0.9624 - val_loss: 0.2372 - val_acc: 0.9537\n",
      "Epoch 66/100\n",
      "8292/8292 [==============================] - 19s 2ms/step - loss: 0.2284 - acc: 0.9614 - val_loss: 0.2353 - val_acc: 0.9522\n",
      "Epoch 67/100\n",
      "8292/8292 [==============================] - 18s 2ms/step - loss: 0.2249 - acc: 0.9645 - val_loss: 0.2357 - val_acc: 0.9537\n",
      "Epoch 68/100\n",
      "8292/8292 [==============================] - 17s 2ms/step - loss: 0.2237 - acc: 0.9637 - val_loss: 0.2323 - val_acc: 0.9532\n",
      "Epoch 69/100\n",
      "8292/8292 [==============================] - 17s 2ms/step - loss: 0.2200 - acc: 0.9641 - val_loss: 0.2311 - val_acc: 0.9532\n",
      "Epoch 70/100\n",
      "8292/8292 [==============================] - 17s 2ms/step - loss: 0.2184 - acc: 0.9650 - val_loss: 0.2299 - val_acc: 0.9547\n",
      "Epoch 71/100\n",
      "8292/8292 [==============================] - 17s 2ms/step - loss: 0.2175 - acc: 0.9650 - val_loss: 0.2285 - val_acc: 0.9547\n",
      "Epoch 72/100\n",
      "8292/8292 [==============================] - 17s 2ms/step - loss: 0.2147 - acc: 0.9676 - val_loss: 0.2263 - val_acc: 0.9571\n",
      "Epoch 73/100\n",
      "8292/8292 [==============================] - 17s 2ms/step - loss: 0.2143 - acc: 0.9685 - val_loss: 0.2271 - val_acc: 0.9561\n",
      "Epoch 74/100\n",
      "8292/8292 [==============================] - 17s 2ms/step - loss: 0.2090 - acc: 0.9689 - val_loss: 0.2241 - val_acc: 0.9561\n",
      "Epoch 75/100\n",
      "8292/8292 [==============================] - 20s 2ms/step - loss: 0.2114 - acc: 0.9666 - val_loss: 0.2231 - val_acc: 0.9571\n",
      "Epoch 76/100\n",
      "8292/8292 [==============================] - 19s 2ms/step - loss: 0.2060 - acc: 0.9702 - val_loss: 0.2215 - val_acc: 0.9590\n",
      "Epoch 77/100\n",
      "8292/8292 [==============================] - 20s 2ms/step - loss: 0.2042 - acc: 0.9699 - val_loss: 0.2222 - val_acc: 0.9580\n",
      "Epoch 78/100\n",
      "8292/8292 [==============================] - 18s 2ms/step - loss: 0.2052 - acc: 0.9697 - val_loss: 0.2220 - val_acc: 0.9585\n",
      "Epoch 79/100\n",
      "8292/8292 [==============================] - 18s 2ms/step - loss: 0.1996 - acc: 0.9712 - val_loss: 0.2189 - val_acc: 0.9590\n",
      "Epoch 80/100\n",
      "8292/8292 [==============================] - 19s 2ms/step - loss: 0.2036 - acc: 0.9707 - val_loss: 0.2176 - val_acc: 0.9580\n",
      "Epoch 81/100\n",
      "8292/8292 [==============================] - 19s 2ms/step - loss: 0.1990 - acc: 0.9733 - val_loss: 0.2169 - val_acc: 0.9585\n",
      "Epoch 82/100\n",
      "8292/8292 [==============================] - 19s 2ms/step - loss: 0.1966 - acc: 0.9730 - val_loss: 0.2175 - val_acc: 0.9595\n",
      "Epoch 83/100\n",
      "8292/8292 [==============================] - 17s 2ms/step - loss: 0.1980 - acc: 0.9737 - val_loss: 0.2151 - val_acc: 0.9575\n",
      "Epoch 84/100\n",
      "8292/8292 [==============================] - 18s 2ms/step - loss: 0.1946 - acc: 0.9742 - val_loss: 0.2131 - val_acc: 0.9604\n",
      "Epoch 85/100\n",
      "8292/8292 [==============================] - 18s 2ms/step - loss: 0.1952 - acc: 0.9741 - val_loss: 0.2120 - val_acc: 0.9609\n",
      "Epoch 86/100\n",
      "8292/8292 [==============================] - 18s 2ms/step - loss: 0.1902 - acc: 0.9755 - val_loss: 0.2115 - val_acc: 0.9609\n",
      "Epoch 87/100\n",
      "8292/8292 [==============================] - 17s 2ms/step - loss: 0.1888 - acc: 0.9766 - val_loss: 0.2125 - val_acc: 0.9595\n",
      "Epoch 88/100\n",
      "8292/8292 [==============================] - 17s 2ms/step - loss: 0.1885 - acc: 0.9756 - val_loss: 0.2114 - val_acc: 0.9619\n",
      "Epoch 89/100\n",
      "8292/8292 [==============================] - 18s 2ms/step - loss: 0.1878 - acc: 0.9771 - val_loss: 0.2110 - val_acc: 0.9624\n",
      "Epoch 90/100\n",
      "8292/8292 [==============================] - 17s 2ms/step - loss: 0.1852 - acc: 0.9778 - val_loss: 0.2087 - val_acc: 0.9624\n",
      "Epoch 91/100\n",
      "8292/8292 [==============================] - 17s 2ms/step - loss: 0.1838 - acc: 0.9770 - val_loss: 0.2058 - val_acc: 0.9609\n",
      "Epoch 92/100\n",
      "8292/8292 [==============================] - 17s 2ms/step - loss: 0.1819 - acc: 0.9789 - val_loss: 0.2045 - val_acc: 0.9624\n",
      "Epoch 93/100\n",
      "8292/8292 [==============================] - 17s 2ms/step - loss: 0.1813 - acc: 0.9783 - val_loss: 0.2037 - val_acc: 0.9629\n",
      "Epoch 94/100\n",
      "8292/8292 [==============================] - 17s 2ms/step - loss: 0.1786 - acc: 0.9805 - val_loss: 0.2030 - val_acc: 0.9638\n",
      "Epoch 95/100\n",
      "8292/8292 [==============================] - 17s 2ms/step - loss: 0.1759 - acc: 0.9820 - val_loss: 0.2034 - val_acc: 0.9686\n",
      "Epoch 96/100\n",
      "8292/8292 [==============================] - 17s 2ms/step - loss: 0.1777 - acc: 0.9793 - val_loss: 0.2007 - val_acc: 0.9667\n",
      "Epoch 97/100\n",
      "8292/8292 [==============================] - 18s 2ms/step - loss: 0.1754 - acc: 0.9814 - val_loss: 0.1998 - val_acc: 0.9658\n",
      "Epoch 98/100\n",
      "8292/8292 [==============================] - 17s 2ms/step - loss: 0.1734 - acc: 0.9818 - val_loss: 0.2004 - val_acc: 0.9672\n",
      "Epoch 99/100\n",
      "8292/8292 [==============================] - 17s 2ms/step - loss: 0.1737 - acc: 0.9807 - val_loss: 0.2021 - val_acc: 0.9677\n",
      "Epoch 100/100\n",
      "8292/8292 [==============================] - 17s 2ms/step - loss: 0.1713 - acc: 0.9806 - val_loss: 0.2004 - val_acc: 0.9682\n"
     ]
    }
   ],
   "source": [
    "model_final = model_glove.fit(x_train, y_train, validation_data=(x_val, y_val),epochs=100, batch_size=batch_size)"
   ]
  },
  {
   "cell_type": "code",
   "execution_count": 233,
   "metadata": {},
   "outputs": [
    {
     "name": "stdout",
     "output_type": "stream",
     "text": [
      "Train on 8292 samples, validate on 2073 samples\n",
      "Epoch 1/20\n",
      "8292/8292 [==============================] - 18s 2ms/step - loss: 0.1693 - acc: 0.9820 - val_loss: 0.1960 - val_acc: 0.9677\n",
      "Epoch 2/20\n",
      "8292/8292 [==============================] - 18s 2ms/step - loss: 0.1662 - acc: 0.9819 - val_loss: 0.1995 - val_acc: 0.9696\n",
      "Epoch 3/20\n",
      "8292/8292 [==============================] - 18s 2ms/step - loss: 0.1679 - acc: 0.9819 - val_loss: 0.1957 - val_acc: 0.9677\n",
      "Epoch 4/20\n",
      "8292/8292 [==============================] - 18s 2ms/step - loss: 0.1671 - acc: 0.9831 - val_loss: 0.1944 - val_acc: 0.9691\n",
      "Epoch 5/20\n",
      "8292/8292 [==============================] - 18s 2ms/step - loss: 0.1653 - acc: 0.9847 - val_loss: 0.1938 - val_acc: 0.9686\n",
      "Epoch 6/20\n",
      "8292/8292 [==============================] - 18s 2ms/step - loss: 0.1637 - acc: 0.9841 - val_loss: 0.1936 - val_acc: 0.9677\n",
      "Epoch 7/20\n",
      "8292/8292 [==============================] - 18s 2ms/step - loss: 0.1617 - acc: 0.9856 - val_loss: 0.1927 - val_acc: 0.9682\n",
      "Epoch 8/20\n",
      "8292/8292 [==============================] - 18s 2ms/step - loss: 0.1613 - acc: 0.9846 - val_loss: 0.1933 - val_acc: 0.9711\n",
      "Epoch 9/20\n",
      "8292/8292 [==============================] - 18s 2ms/step - loss: 0.1607 - acc: 0.9842 - val_loss: 0.1921 - val_acc: 0.9696\n",
      "Epoch 10/20\n",
      "8292/8292 [==============================] - 17s 2ms/step - loss: 0.1594 - acc: 0.9848 - val_loss: 0.1898 - val_acc: 0.9677\n",
      "Epoch 11/20\n",
      "8292/8292 [==============================] - 17s 2ms/step - loss: 0.1590 - acc: 0.9843 - val_loss: 0.1894 - val_acc: 0.9715\n",
      "Epoch 12/20\n",
      "8292/8292 [==============================] - 17s 2ms/step - loss: 0.1581 - acc: 0.9863 - val_loss: 0.1903 - val_acc: 0.9706\n",
      "Epoch 13/20\n",
      "8292/8292 [==============================] - 17s 2ms/step - loss: 0.1565 - acc: 0.9847 - val_loss: 0.1875 - val_acc: 0.9686\n",
      "Epoch 14/20\n",
      "8292/8292 [==============================] - 18s 2ms/step - loss: 0.1556 - acc: 0.9853 - val_loss: 0.1875 - val_acc: 0.9706\n",
      "Epoch 15/20\n",
      "8292/8292 [==============================] - 18s 2ms/step - loss: 0.1542 - acc: 0.9865 - val_loss: 0.1860 - val_acc: 0.9701\n",
      "Epoch 16/20\n",
      "8292/8292 [==============================] - 20s 2ms/step - loss: 0.1531 - acc: 0.9870 - val_loss: 0.1847 - val_acc: 0.9701\n",
      "Epoch 17/20\n",
      "8292/8292 [==============================] - 18s 2ms/step - loss: 0.1527 - acc: 0.9865 - val_loss: 0.1857 - val_acc: 0.9706\n",
      "Epoch 18/20\n",
      "8292/8292 [==============================] - 18s 2ms/step - loss: 0.1514 - acc: 0.9854 - val_loss: 0.1863 - val_acc: 0.9701\n",
      "Epoch 19/20\n",
      "8292/8292 [==============================] - 19s 2ms/step - loss: 0.1483 - acc: 0.9885 - val_loss: 0.1837 - val_acc: 0.9696\n",
      "Epoch 20/20\n",
      "8292/8292 [==============================] - 18s 2ms/step - loss: 0.1478 - acc: 0.9872 - val_loss: 0.1827 - val_acc: 0.9701\n"
     ]
    }
   ],
   "source": [
    "model_final1 = model_glove.fit(x_train, y_train, validation_data=(x_val, y_val),epochs=20, batch_size=batch_size)"
   ]
  },
  {
   "cell_type": "markdown",
   "metadata": {},
   "source": [
    "**SAVE BEST MODEL AND WEIGHTS**"
   ]
  },
  {
   "cell_type": "code",
   "execution_count": 218,
   "metadata": {},
   "outputs": [
    {
     "name": "stdout",
     "output_type": "stream",
     "text": [
      "Saved model to disk\n"
     ]
    }
   ],
   "source": [
    "# serialize model to JSON\n",
    "model_json = model_glove.to_json()\n",
    "with open(\".\\\\SavedModels\\\\Model_glove.h5\", \"w\") as json_file:\n",
    "    json_file.write(model_json)\n",
    "# serialize weights to HDF5\n",
    "model_glove.save_weights(\".\\\\SavedModels\\\\Weights_glove.h5\")\n",
    "print(\"Saved model to disk\")"
   ]
  },
  {
   "cell_type": "markdown",
   "metadata": {},
   "source": [
    "**MODEL LOSS AND ACCURAY**"
   ]
  },
  {
   "cell_type": "code",
   "execution_count": 210,
   "metadata": {},
   "outputs": [
    {
     "name": "stdout",
     "output_type": "stream",
     "text": [
      "Validation Loss: 0.20\n",
      "Validation Accuracy: 0.97\n"
     ]
    }
   ],
   "source": [
    "loss,acc = model_glove.evaluate(x_val,y_val, verbose = 2, batch_size = batch_size)\n",
    "print(\"Validation Loss: %.2f\" % (loss))\n",
    "print(\"Validation Accuracy: %.2f\" % (acc))"
   ]
  },
  {
   "cell_type": "markdown",
   "metadata": {},
   "source": [
    "**MODEL PERFORMANCE**"
   ]
  },
  {
   "cell_type": "code",
   "execution_count": 214,
   "metadata": {},
   "outputs": [],
   "source": [
    "def plot_modelacc(fit_model):\n",
    "    with plt.style.context('ggplot'):\n",
    "            plt.plot(fit_model.history['acc'])\n",
    "            plt.plot(fit_model.history['val_acc'])\n",
    "            plt.ylim(0,1)\n",
    "            plt.title(\"MODEL ACCURACY\")\n",
    "            plt.xlabel(\"# of EPOCHS\")\n",
    "            plt.ylabel(\"ACCURACY\")\n",
    "            plt.legend(['train', 'test'], loc='upper left')\n",
    "    return plt.show()"
   ]
  },
  {
   "cell_type": "code",
   "execution_count": 215,
   "metadata": {},
   "outputs": [],
   "source": [
    "def plot_model_loss(fit_model):\n",
    "    with plt.style.context('ggplot'):\n",
    "            plt.plot(fit_model.history['loss'])\n",
    "            plt.plot(fit_model.history['val_loss'])\n",
    "            plt.title(\"MODEL LOSS\")\n",
    "            plt.xlabel(\"# of EPOCHS\")\n",
    "            plt.ylabel(\"LOSS\")\n",
    "            plt.legend(['train', 'test'], loc='upper left')\n",
    "    return plt.show()"
   ]
  },
  {
   "cell_type": "code",
   "execution_count": 216,
   "metadata": {},
   "outputs": [
    {
     "data": {
      "image/png": "[encoded data removed]",
      "text/plain": [
       "<Figure size 432x288 with 1 Axes>"
      ]
     },
     "metadata": {},
     "output_type": "display_data"
    },
    {
     "data": {
      "image/png": "[encoded data removed]",
      "text/plain": [
       "<Figure size 432x288 with 1 Axes>"
      ]
     },
     "metadata": {},
     "output_type": "display_data"
    }
   ],
   "source": [
    "plot_modelacc(model_final)\n",
    "plot_model_loss(model_final)"
   ]
  },
  {
   "cell_type": "markdown",
   "metadata": {},
   "source": [
    "**CONFUSION MATRIX**"
   ]
  },
  {
   "cell_type": "markdown",
   "metadata": {},
   "source": [
    "A confusion matrix will show us the how the model predicted with respect to the acutal output. "
   ]
  },
  {
   "cell_type": "code",
   "execution_count": 242,
   "metadata": {},
   "outputs": [
    {
     "name": "stdout",
     "output_type": "stream",
     "text": [
      "[[1141   33]\n",
      " [  29  870]]\n"
     ]
    },
    {
     "data": {
      "image/png": "[encoded data removed]",
      "text/plain": [
       "<Figure size 432x288 with 2 Axes>"
      ]
     },
     "metadata": {
      "needs_background": "light"
     },
     "output_type": "display_data"
    }
   ],
   "source": [
    "# Predicting the Test set results\n",
    "y_pred = model_glove.predict(x_val)\n",
    "# cutoff 0.5\n",
    "y_pred = (y_pred > 0.5)\n",
    "\n",
    "y_pred = y_pred.astype(int)\n",
    "\n",
    "\n",
    "# Confusion matrix \n",
    "cm = confusion_matrix(y_val.argmax(axis=1), y_pred.argmax(axis=1))\n",
    "print(cm)\n",
    "\n",
    "LABELS = ['negative', 'positive']\n",
    "sns.heatmap(cm, annot=True, xticklabels=LABELS, yticklabels=LABELS, fmt='g')\n",
    "xl = plt.xlabel(\"Predicted\")\n",
    "yl = plt.ylabel(\"Actual\")"
   ]
  },
  {
   "cell_type": "markdown",
   "metadata": {},
   "source": [
    "True Positives: 870 (Predicted True and True in reality)<br>\n",
    "True Negative: 1141(Predicted False and False in realtity)<br>\n",
    "False Positive: 33 (Predicted Positve but Negative in reality)<br>\n",
    "False Negative: 29 (Predicted Negative but Positive in reality)"
   ]
  }
 ],
 "metadata": {
  "kernelspec": {
   "display_name": "Python 3",
   "language": "python",
   "name": "python3"
  },
  "language_info": {
   "codemirror_mode": {
    "name": "ipython",
    "version": 3
   },
   "file_extension": ".py",
   "mimetype": "text/x-python",
   "name": "python",
   "nbconvert_exporter": "python",
   "pygments_lexer": "ipython3",
   "version": "3.6.7"
  }
 },
 "nbformat": 4,
 "nbformat_minor": 2
}
